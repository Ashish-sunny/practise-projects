{
 "cells": [
  {
   "cell_type": "code",
   "execution_count": 1,
   "metadata": {},
   "outputs": [
    {
     "data": {
      "text/html": [
       "<div>\n",
       "<style scoped>\n",
       "    .dataframe tbody tr th:only-of-type {\n",
       "        vertical-align: middle;\n",
       "    }\n",
       "\n",
       "    .dataframe tbody tr th {\n",
       "        vertical-align: top;\n",
       "    }\n",
       "\n",
       "    .dataframe thead th {\n",
       "        text-align: right;\n",
       "    }\n",
       "</style>\n",
       "<table border=\"1\" class=\"dataframe\">\n",
       "  <thead>\n",
       "    <tr style=\"text-align: right;\">\n",
       "      <th></th>\n",
       "      <th>Gender</th>\n",
       "      <th>AgeRange</th>\n",
       "      <th>HeadSize</th>\n",
       "      <th>BrainWeight</th>\n",
       "    </tr>\n",
       "  </thead>\n",
       "  <tbody>\n",
       "    <tr>\n",
       "      <td>0</td>\n",
       "      <td>1</td>\n",
       "      <td>1</td>\n",
       "      <td>4512</td>\n",
       "      <td>1530</td>\n",
       "    </tr>\n",
       "    <tr>\n",
       "      <td>1</td>\n",
       "      <td>1</td>\n",
       "      <td>1</td>\n",
       "      <td>3738</td>\n",
       "      <td>1297</td>\n",
       "    </tr>\n",
       "    <tr>\n",
       "      <td>2</td>\n",
       "      <td>1</td>\n",
       "      <td>1</td>\n",
       "      <td>4261</td>\n",
       "      <td>1335</td>\n",
       "    </tr>\n",
       "    <tr>\n",
       "      <td>3</td>\n",
       "      <td>1</td>\n",
       "      <td>1</td>\n",
       "      <td>3777</td>\n",
       "      <td>1282</td>\n",
       "    </tr>\n",
       "    <tr>\n",
       "      <td>4</td>\n",
       "      <td>1</td>\n",
       "      <td>1</td>\n",
       "      <td>4177</td>\n",
       "      <td>1590</td>\n",
       "    </tr>\n",
       "  </tbody>\n",
       "</table>\n",
       "</div>"
      ],
      "text/plain": [
       "   Gender  AgeRange  HeadSize  BrainWeight\n",
       "0       1         1      4512         1530\n",
       "1       1         1      3738         1297\n",
       "2       1         1      4261         1335\n",
       "3       1         1      3777         1282\n",
       "4       1         1      4177         1590"
      ]
     },
     "execution_count": 1,
     "metadata": {},
     "output_type": "execute_result"
    }
   ],
   "source": [
    "#importing library for importing dataset\n",
    "import pandas as pd\n",
    "import numpy as np\n",
    "df_headbrain=pd.read_csv(\"headbrain.csv\")\n",
    "df_headbrain.head()"
   ]
  },
  {
   "cell_type": "code",
   "execution_count": 2,
   "metadata": {},
   "outputs": [
    {
     "data": {
      "text/plain": [
       "<Figure size 640x480 with 2 Axes>"
      ]
     },
     "metadata": {},
     "output_type": "display_data"
    }
   ],
   "source": [
    "# checking null values through simple visualisation technique:\n",
    "import seaborn as sns\n",
    "import matplotlib.pyplot as plt\n",
    "sns.heatmap(df_headbrain.isnull(),annot=True)\n",
    "plt.show()"
   ]
  },
  {
   "cell_type": "code",
   "execution_count": 3,
   "metadata": {},
   "outputs": [
    {
     "data": {
      "text/plain": [
       "Gender         0\n",
       "AgeRange       0\n",
       "HeadSize       0\n",
       "BrainWeight    0\n",
       "dtype: int64"
      ]
     },
     "execution_count": 3,
     "metadata": {},
     "output_type": "execute_result"
    }
   ],
   "source": [
    "# checkingg null values in the numerical technique:\n",
    "df_headbrain.isnull().sum()"
   ]
  },
  {
   "cell_type": "markdown",
   "metadata": {},
   "source": [
    "no null values presentin this dataset :"
   ]
  },
  {
   "cell_type": "code",
   "execution_count": 4,
   "metadata": {},
   "outputs": [
    {
     "name": "stdout",
     "output_type": "stream",
     "text": [
      "(237, 4)\n",
      "(236, 4)\n"
     ]
    }
   ],
   "source": [
    "# checking for outliers present or not: & removing present outliers\n",
    "from scipy.stats import zscore\n",
    "z_score=abs(zscore(df_headbrain))\n",
    "print(df_headbrain.shape)\n",
    "df_headbrain_final=df_headbrain.loc[(z_score<3).all(axis=1)]\n",
    "print(df_headbrain_final.shape)"
   ]
  },
  {
   "cell_type": "code",
   "execution_count": 5,
   "metadata": {},
   "outputs": [
    {
     "data": {
      "text/plain": [
       "Index(['Gender', 'AgeRange', 'HeadSize', 'BrainWeight'], dtype='object')"
      ]
     },
     "execution_count": 5,
     "metadata": {},
     "output_type": "execute_result"
    }
   ],
   "source": [
    "df_headbrain_final.columns"
   ]
  },
  {
   "cell_type": "code",
   "execution_count": 6,
   "metadata": {},
   "outputs": [
    {
     "data": {
      "text/html": [
       "<div>\n",
       "<style scoped>\n",
       "    .dataframe tbody tr th:only-of-type {\n",
       "        vertical-align: middle;\n",
       "    }\n",
       "\n",
       "    .dataframe tbody tr th {\n",
       "        vertical-align: top;\n",
       "    }\n",
       "\n",
       "    .dataframe thead th {\n",
       "        text-align: right;\n",
       "    }\n",
       "</style>\n",
       "<table border=\"1\" class=\"dataframe\">\n",
       "  <thead>\n",
       "    <tr style=\"text-align: right;\">\n",
       "      <th></th>\n",
       "      <th>Gender</th>\n",
       "      <th>AgeRange</th>\n",
       "      <th>HeadSize</th>\n",
       "      <th>BrainWeight</th>\n",
       "    </tr>\n",
       "  </thead>\n",
       "  <tbody>\n",
       "    <tr>\n",
       "      <td>Gender</td>\n",
       "      <td>1.000000</td>\n",
       "      <td>-0.093023</td>\n",
       "      <td>-0.513779</td>\n",
       "      <td>-0.463639</td>\n",
       "    </tr>\n",
       "    <tr>\n",
       "      <td>AgeRange</td>\n",
       "      <td>-0.093023</td>\n",
       "      <td>1.000000</td>\n",
       "      <td>-0.093618</td>\n",
       "      <td>-0.159401</td>\n",
       "    </tr>\n",
       "    <tr>\n",
       "      <td>HeadSize</td>\n",
       "      <td>-0.513779</td>\n",
       "      <td>-0.093618</td>\n",
       "      <td>1.000000</td>\n",
       "      <td>0.791692</td>\n",
       "    </tr>\n",
       "    <tr>\n",
       "      <td>BrainWeight</td>\n",
       "      <td>-0.463639</td>\n",
       "      <td>-0.159401</td>\n",
       "      <td>0.791692</td>\n",
       "      <td>1.000000</td>\n",
       "    </tr>\n",
       "  </tbody>\n",
       "</table>\n",
       "</div>"
      ],
      "text/plain": [
       "               Gender  AgeRange  HeadSize  BrainWeight\n",
       "Gender       1.000000 -0.093023 -0.513779    -0.463639\n",
       "AgeRange    -0.093023  1.000000 -0.093618    -0.159401\n",
       "HeadSize    -0.513779 -0.093618  1.000000     0.791692\n",
       "BrainWeight -0.463639 -0.159401  0.791692     1.000000"
      ]
     },
     "execution_count": 6,
     "metadata": {},
     "output_type": "execute_result"
    }
   ],
   "source": [
    "#finding the correlation between the culmns in the dataset\n",
    "df_headbrain_final.corr()"
   ]
  },
  {
   "cell_type": "code",
   "execution_count": 7,
   "metadata": {},
   "outputs": [
    {
     "data": {
      "text/plain": [
       "<matplotlib.axes._subplots.AxesSubplot at 0x233dcb6bb08>"
      ]
     },
     "execution_count": 7,
     "metadata": {},
     "output_type": "execute_result"
    },
    {
     "data": {
      "image/png": "[encoded data removed]",
      "text/plain": [
       "<Figure size 432x288 with 2 Axes>"
      ]
     },
     "metadata": {
      "needs_background": "light"
     },
     "output_type": "display_data"
    }
   ],
   "source": [
    "sns.heatmap(df_headbrain_final.corr())"
   ]
  },
  {
   "cell_type": "code",
   "execution_count": 8,
   "metadata": {},
   "outputs": [
    {
     "data": {
      "image/png": "[encoded data removed]",
      "text/plain": [
       "<Figure size 432x288 with 1 Axes>"
      ]
     },
     "metadata": {
      "needs_background": "light"
     },
     "output_type": "display_data"
    }
   ],
   "source": [
    "#lets check how BrainWeight is changing w.r.t Headsize\n",
    "sns.lineplot(x=df_headbrain_final['HeadSize'],y=df_headbrain_final['BrainWeight'],data=df_headbrain_final)\n",
    "plt.show() "
   ]
  },
  {
   "cell_type": "markdown",
   "metadata": {},
   "source": [
    "this graph clearly shows that with increase in Headsize there will be increase in BrainWeight"
   ]
  },
  {
   "cell_type": "code",
   "execution_count": 9,
   "metadata": {},
   "outputs": [
    {
     "data": {
      "image/png": "[encoded data removed]",
      "text/plain": [
       "<Figure size 432x288 with 1 Axes>"
      ]
     },
     "metadata": {
      "needs_background": "light"
     },
     "output_type": "display_data"
    }
   ],
   "source": [
    "#checking avg weight size according to gender\n",
    "sns.barplot(x=df_headbrain_final['Gender'],y=df_headbrain_final['BrainWeight'],data=df_headbrain)\n",
    "plt.show()"
   ]
  },
  {
   "cell_type": "code",
   "execution_count": 10,
   "metadata": {},
   "outputs": [
    {
     "data": {
      "image/png": "[encoded data removed]",
      "text/plain": [
       "<Figure size 432x288 with 1 Axes>"
      ]
     },
     "metadata": {
      "needs_background": "light"
     },
     "output_type": "display_data"
    }
   ],
   "source": [
    "sns.barplot(x=df_headbrain_final['AgeRange'],y=df_headbrain_final['BrainWeight'],data=df_headbrain_final)\n",
    "plt.show()"
   ]
  },
  {
   "cell_type": "code",
   "execution_count": 11,
   "metadata": {},
   "outputs": [
    {
     "data": {
      "image/png": "[encoded data removed]",
      "text/plain": [
       "<Figure size 432x288 with 1 Axes>"
      ]
     },
     "metadata": {
      "needs_background": "light"
     },
     "output_type": "display_data"
    }
   ],
   "source": [
    "#histogram for brainweight:\n",
    "plt.hist(x='BrainWeight',bins=10,data=df_headbrain_final)\n",
    "plt.show()"
   ]
  },
  {
   "cell_type": "code",
   "execution_count": 12,
   "metadata": {},
   "outputs": [
    {
     "data": {
      "text/plain": [
       "Gender         0.257959\n",
       "AgeRange      -0.153968\n",
       "HeadSize       0.164767\n",
       "BrainWeight    0.205274\n",
       "dtype: float64"
      ]
     },
     "execution_count": 12,
     "metadata": {},
     "output_type": "execute_result"
    }
   ],
   "source": [
    "#checking skewness in the data:\n",
    "df_headbrain_final.skew()\n"
   ]
  },
  {
   "cell_type": "markdown",
   "metadata": {},
   "source": [
    "above shows acceptable level of skewness in data----->>>> (+0.5 ,-0.5) is the accecptable level of skewness."
   ]
  },
  {
   "cell_type": "code",
   "execution_count": 13,
   "metadata": {},
   "outputs": [
    {
     "data": {
      "text/html": [
       "<div>\n",
       "<style scoped>\n",
       "    .dataframe tbody tr th:only-of-type {\n",
       "        vertical-align: middle;\n",
       "    }\n",
       "\n",
       "    .dataframe tbody tr th {\n",
       "        vertical-align: top;\n",
       "    }\n",
       "\n",
       "    .dataframe thead th {\n",
       "        text-align: right;\n",
       "    }\n",
       "</style>\n",
       "<table border=\"1\" class=\"dataframe\">\n",
       "  <thead>\n",
       "    <tr style=\"text-align: right;\">\n",
       "      <th></th>\n",
       "      <th>Gender</th>\n",
       "      <th>AgeRange</th>\n",
       "      <th>HeadSize</th>\n",
       "      <th>BrainWeight</th>\n",
       "    </tr>\n",
       "  </thead>\n",
       "  <tbody>\n",
       "    <tr>\n",
       "      <td>0</td>\n",
       "      <td>1</td>\n",
       "      <td>1</td>\n",
       "      <td>4512</td>\n",
       "      <td>1530</td>\n",
       "    </tr>\n",
       "    <tr>\n",
       "      <td>1</td>\n",
       "      <td>1</td>\n",
       "      <td>1</td>\n",
       "      <td>3738</td>\n",
       "      <td>1297</td>\n",
       "    </tr>\n",
       "    <tr>\n",
       "      <td>2</td>\n",
       "      <td>1</td>\n",
       "      <td>1</td>\n",
       "      <td>4261</td>\n",
       "      <td>1335</td>\n",
       "    </tr>\n",
       "    <tr>\n",
       "      <td>3</td>\n",
       "      <td>1</td>\n",
       "      <td>1</td>\n",
       "      <td>3777</td>\n",
       "      <td>1282</td>\n",
       "    </tr>\n",
       "    <tr>\n",
       "      <td>4</td>\n",
       "      <td>1</td>\n",
       "      <td>1</td>\n",
       "      <td>4177</td>\n",
       "      <td>1590</td>\n",
       "    </tr>\n",
       "    <tr>\n",
       "      <td>...</td>\n",
       "      <td>...</td>\n",
       "      <td>...</td>\n",
       "      <td>...</td>\n",
       "      <td>...</td>\n",
       "    </tr>\n",
       "    <tr>\n",
       "      <td>232</td>\n",
       "      <td>2</td>\n",
       "      <td>2</td>\n",
       "      <td>3214</td>\n",
       "      <td>1110</td>\n",
       "    </tr>\n",
       "    <tr>\n",
       "      <td>233</td>\n",
       "      <td>2</td>\n",
       "      <td>2</td>\n",
       "      <td>3394</td>\n",
       "      <td>1215</td>\n",
       "    </tr>\n",
       "    <tr>\n",
       "      <td>234</td>\n",
       "      <td>2</td>\n",
       "      <td>2</td>\n",
       "      <td>3233</td>\n",
       "      <td>1104</td>\n",
       "    </tr>\n",
       "    <tr>\n",
       "      <td>235</td>\n",
       "      <td>2</td>\n",
       "      <td>2</td>\n",
       "      <td>3352</td>\n",
       "      <td>1170</td>\n",
       "    </tr>\n",
       "    <tr>\n",
       "      <td>236</td>\n",
       "      <td>2</td>\n",
       "      <td>2</td>\n",
       "      <td>3391</td>\n",
       "      <td>1120</td>\n",
       "    </tr>\n",
       "  </tbody>\n",
       "</table>\n",
       "<p>236 rows × 4 columns</p>\n",
       "</div>"
      ],
      "text/plain": [
       "     Gender  AgeRange  HeadSize  BrainWeight\n",
       "0         1         1      4512         1530\n",
       "1         1         1      3738         1297\n",
       "2         1         1      4261         1335\n",
       "3         1         1      3777         1282\n",
       "4         1         1      4177         1590\n",
       "..      ...       ...       ...          ...\n",
       "232       2         2      3214         1110\n",
       "233       2         2      3394         1215\n",
       "234       2         2      3233         1104\n",
       "235       2         2      3352         1170\n",
       "236       2         2      3391         1120\n",
       "\n",
       "[236 rows x 4 columns]"
      ]
     },
     "execution_count": 13,
     "metadata": {},
     "output_type": "execute_result"
    }
   ],
   "source": [
    "df_headbrain_final"
   ]
  },
  {
   "cell_type": "code",
   "execution_count": 19,
   "metadata": {},
   "outputs": [
    {
     "name": "stdout",
     "output_type": "stream",
     "text": [
      "(236, 3)\n",
      "(236,)\n"
     ]
    }
   ],
   "source": [
    "#lets separate the data in x and y for the regression problem:\n",
    "x=df_headbrain_final.drop(['BrainWeight'], axis = 1)\n",
    "y=df_headbrain_final['BrainWeight']\n",
    "print(x.shape)\n",
    "print(y.shape)"
   ]
  },
  {
   "cell_type": "code",
   "execution_count": 20,
   "metadata": {},
   "outputs": [],
   "source": [
    "from sklearn.preprocessing import StandardScaler\n",
    "sc = StandardScaler()\n",
    "x = sc.fit_transform(x)"
   ]
  },
  {
   "cell_type": "code",
   "execution_count": 21,
   "metadata": {},
   "outputs": [
    {
     "data": {
      "text/plain": [
       "array([[-0.88002051, -1.0794154 ,  2.46589809],\n",
       "       [-0.88002051, -1.0794154 ,  0.30372296],\n",
       "       [-0.88002051, -1.0794154 ,  1.7647276 ],\n",
       "       [-0.88002051, -1.0794154 ,  0.41266977],\n",
       "       [-0.88002051, -1.0794154 ,  1.53007294],\n",
       "       [-0.88002051, -1.0794154 , -0.12368375],\n",
       "       [-0.88002051, -1.0794154 ,  0.43501784],\n",
       "       [-0.88002051, -1.0794154 , -0.19631495],\n",
       "       [-0.88002051, -1.0794154 , -0.04546553],\n",
       "       [-0.88002051, -1.0794154 ,  0.9853389 ],\n",
       "       [-0.88002051, -1.0794154 , -0.52036187],\n",
       "       [-0.88002051, -1.0794154 ,  1.01606748],\n",
       "       [-0.88002051, -1.0794154 ,  0.02995919],\n",
       "       [-0.88002051, -1.0794154 ,  1.61667168],\n",
       "       [-0.88002051, -1.0794154 ,  0.56631271],\n",
       "       [-0.88002051, -1.0794154 ,  0.68922706],\n",
       "       [-0.88002051, -1.0794154 , -0.36951244],\n",
       "       [-0.88002051, -1.0794154 , -0.45611119],\n",
       "       [-0.88002051, -1.0794154 , -1.49250262],\n",
       "       [-0.88002051, -1.0794154 ,  2.22006939],\n",
       "       [-0.88002051, -1.0794154 ,  0.69481407],\n",
       "       [-0.88002051, -1.0794154 ,  1.1641234 ],\n",
       "       [-0.88002051, -1.0794154 ,  0.48809449],\n",
       "       [-0.88002051, -1.0794154 ,  0.22550474],\n",
       "       [-0.88002051, -1.0794154 ,  2.21727589],\n",
       "       [-0.88002051, -1.0794154 ,  1.13618832],\n",
       "       [-0.88002051, -1.0794154 ,  1.09707921],\n",
       "       [-0.88002051, -1.0794154 , -0.48963328],\n",
       "       [-0.88002051, -1.0794154 ,  1.52448592],\n",
       "       [-0.88002051, -1.0794154 ,  0.44060485],\n",
       "       [-0.88002051, -1.0794154 ,  0.46574642],\n",
       "       [-0.88002051, -1.0794154 ,  1.32335335],\n",
       "       [-0.88002051, -1.0794154 ,  1.48537681],\n",
       "       [-0.88002051, -1.0794154 ,  1.47699629],\n",
       "       [-0.88002051, -1.0794154 ,  0.51602957],\n",
       "       [-0.88002051, -1.0794154 , -0.28570721],\n",
       "       [-0.88002051, -1.0794154 ,  0.33165804],\n",
       "       [-0.88002051, -1.0794154 , -0.82485423],\n",
       "       [-0.88002051, -1.0794154 , -0.38347998],\n",
       "       [-0.88002051, -1.0794154 ,  0.92946874],\n",
       "       [-0.88002051, -1.0794154 , -0.34716438],\n",
       "       [-0.88002051, -1.0794154 ,  1.91557703],\n",
       "       [-0.88002051, -1.0794154 ,  0.48809449],\n",
       "       [-0.88002051, -1.0794154 ,  0.65291145],\n",
       "       [-0.88002051, -1.0794154 ,  1.13060131],\n",
       "       [-0.88002051, -1.0794154 ,  1.89602248],\n",
       "       [-0.88002051, -1.0794154 , -1.29695707],\n",
       "       [-0.88002051, -1.0794154 ,  0.0327527 ],\n",
       "       [-0.88002051, -1.0794154 ,  0.04113322],\n",
       "       [-0.88002051, -1.0794154 ,  0.73112968],\n",
       "       [-0.88002051, -1.0794154 ,  0.4573659 ],\n",
       "       [-0.88002051, -1.0794154 ,  1.78986917],\n",
       "       [-0.88002051, -1.0794154 ,  1.21161304],\n",
       "       [-0.88002051, -1.0794154 ,  1.06914413],\n",
       "       [-0.88002051, -1.0794154 , -0.47845925],\n",
       "       [-0.88002051, -1.0794154 ,  0.72833617],\n",
       "       [-0.88002051,  0.92642739,  1.49934435],\n",
       "       [-0.88002051,  0.92642739,  0.85404402],\n",
       "       [-0.88002051,  0.92642739,  0.11097092],\n",
       "       [-0.88002051,  0.92642739,  0.66129198],\n",
       "       [-0.88002051,  0.92642739, -0.66003727],\n",
       "       [-0.88002051,  0.92642739,  2.27035254],\n",
       "       [-0.88002051,  0.92642739,  1.74237954],\n",
       "       [-0.88002051,  0.92642739,  0.27299438],\n",
       "       [-0.88002051,  0.92642739, -0.83882177],\n",
       "       [-0.88002051,  0.92642739, -0.59858009],\n",
       "       [-0.88002051,  0.92642739, -0.71870093],\n",
       "       [-0.88002051,  0.92642739,  2.23683044],\n",
       "       [-0.88002051,  0.92642739,  2.09994855],\n",
       "       [-0.88002051,  0.92642739,  1.0579701 ],\n",
       "       [-0.88002051,  0.92642739,  0.63894391],\n",
       "       [-0.88002051,  0.92642739,  1.3736365 ],\n",
       "       [-0.88002051,  0.92642739,  1.19485199],\n",
       "       [-0.88002051,  0.92642739,  0.54396464],\n",
       "       [-0.88002051,  0.92642739, -0.65724376],\n",
       "       [-0.88002051,  0.92642739, -0.19910846],\n",
       "       [-0.88002051,  0.92642739, -0.74663601],\n",
       "       [-0.88002051,  0.92642739,  0.84007648],\n",
       "       [-0.88002051,  0.92642739,  0.57469323],\n",
       "       [-0.88002051,  0.92642739,  0.56072569],\n",
       "       [-0.88002051,  0.92642739,  0.6333569 ],\n",
       "       [-0.88002051,  0.92642739, -1.06230241],\n",
       "       [-0.88002051,  0.92642739, -0.14603181],\n",
       "       [-0.88002051,  0.92642739,  0.84845701],\n",
       "       [-0.88002051,  0.92642739,  0.61659585],\n",
       "       [-0.88002051,  0.92642739, -0.89469193],\n",
       "       [-0.88002051,  0.92642739, -0.62372166],\n",
       "       [-0.88002051,  0.92642739, -0.34437087],\n",
       "       [-0.88002051,  0.92642739,  0.7758258 ],\n",
       "       [-0.88002051,  0.92642739,  1.4825833 ],\n",
       "       [-0.88002051,  0.92642739, -0.86955036],\n",
       "       [-0.88002051,  0.92642739,  0.09141636],\n",
       "       [-0.88002051,  0.92642739,  0.75347774],\n",
       "       [-0.88002051,  0.92642739,  0.19756966],\n",
       "       [-0.88002051,  0.92642739,  0.41825679],\n",
       "       [-0.88002051,  0.92642739, -0.43655663],\n",
       "       [-0.88002051,  0.92642739, -0.389067  ],\n",
       "       [-0.88002051,  0.92642739,  0.0690683 ],\n",
       "       [-0.88002051,  0.92642739, -0.42258909],\n",
       "       [-0.88002051,  0.92642739, -0.37509946],\n",
       "       [-0.88002051,  0.92642739,  0.57189972],\n",
       "       [-0.88002051,  0.92642739,  0.68922706],\n",
       "       [-0.88002051,  0.92642739,  0.08862285],\n",
       "       [-0.88002051,  0.92642739, -0.03149799],\n",
       "       [-0.88002051,  0.92642739,  0.05230725],\n",
       "       [-0.88002051,  0.92642739,  1.12501429],\n",
       "       [-0.88002051,  0.92642739, -0.64327622],\n",
       "       [-0.88002051,  0.92642739,  0.80096737],\n",
       "       [-0.88002051,  0.92642739,  2.23683044],\n",
       "       [-0.88002051,  0.92642739,  0.18360212],\n",
       "       [-0.88002051,  0.92642739, -0.29408773],\n",
       "       [-0.88002051,  0.92642739, -0.16279286],\n",
       "       [-0.88002051,  0.92642739, -0.09854218],\n",
       "       [-0.88002051,  0.92642739, -0.68797235],\n",
       "       [-0.88002051,  0.92642739, -0.36392543],\n",
       "       [-0.88002051,  0.92642739, -0.11250971],\n",
       "       [-0.88002051,  0.92642739,  0.75627125],\n",
       "       [-0.88002051,  0.92642739,  1.35408194],\n",
       "       [-0.88002051,  0.92642739,  0.85963104],\n",
       "       [-0.88002051,  0.92642739, -0.64327622],\n",
       "       [-0.88002051,  0.92642739,  1.59432362],\n",
       "       [-0.88002051,  0.92642739,  2.3988539 ],\n",
       "       [-0.88002051,  0.92642739, -0.04267202],\n",
       "       [-0.88002051,  0.92642739,  1.17809094],\n",
       "       [-0.88002051,  0.92642739,  0.42663731],\n",
       "       [-0.88002051,  0.92642739, -0.66562428],\n",
       "       [-0.88002051,  0.92642739, -1.4114909 ],\n",
       "       [-0.88002051,  0.92642739,  1.18367796],\n",
       "       [-0.88002051,  0.92642739, -0.13206427],\n",
       "       [-0.88002051,  0.92642739,  0.10259039],\n",
       "       [-0.88002051,  0.92642739, -0.27173967],\n",
       "       [-0.88002051,  0.92642739,  1.1641234 ],\n",
       "       [-0.88002051,  0.92642739,  0.1053839 ],\n",
       "       [ 1.13633716, -1.0794154 , -2.15735751],\n",
       "       [ 1.13633716, -1.0794154 , -0.53991643],\n",
       "       [ 1.13633716, -1.0794154 ,  0.45177888],\n",
       "       [ 1.13633716, -1.0794154 , -0.91424649],\n",
       "       [ 1.13633716, -1.0794154 , -1.46736105],\n",
       "       [ 1.13633716, -1.0794154 , -1.28019602],\n",
       "       [ 1.13633716, -1.0794154 , -0.15999935],\n",
       "       [ 1.13633716, -1.0794154 , -0.27732668],\n",
       "       [ 1.13633716, -1.0794154 , -1.26902199],\n",
       "       [ 1.13633716, -1.0794154 , -0.53432941],\n",
       "       [ 1.13633716, -1.0794154 ,  0.76465177],\n",
       "       [ 1.13633716, -1.0794154 ,  0.75347774],\n",
       "       [ 1.13633716, -1.0794154 , -0.6376892 ],\n",
       "       [ 1.13633716, -1.0794154 , -1.01201926],\n",
       "       [ 1.13633716, -1.0794154 , -0.49801381],\n",
       "       [ 1.13633716, -1.0794154 , -1.50647016],\n",
       "       [ 1.13633716, -1.0794154 , -0.60416711],\n",
       "       [ 1.13633716, -1.0794154 , -0.85558282],\n",
       "       [ 1.13633716, -1.0794154 ,  0.14169951],\n",
       "       [ 1.13633716, -1.0794154 , -0.5315359 ],\n",
       "       [ 1.13633716, -1.0794154 ,  0.62497637],\n",
       "       [ 1.13633716, -1.0794154 , -1.32209864],\n",
       "       [ 1.13633716, -1.0794154 , -0.97849717],\n",
       "       [ 1.13633716, -1.0794154 ,  0.21712422],\n",
       "       [ 1.13633716, -1.0794154 ,  1.05238309],\n",
       "       [ 1.13633716, -1.0794154 , -1.00643225],\n",
       "       [ 1.13633716, -1.0794154 , -1.55954681],\n",
       "       [ 1.13633716, -1.0794154 ,  0.41825679],\n",
       "       [ 1.13633716, -1.0794154 , -0.22704354],\n",
       "       [ 1.13633716, -1.0794154 , -0.94218157],\n",
       "       [ 1.13633716, -1.0794154 , -0.36951244],\n",
       "       [ 1.13633716, -1.0794154 , -1.52881823],\n",
       "       [ 1.13633716, -1.0794154 , -1.06509591],\n",
       "       [ 1.13633716, -1.0794154 , -0.75781004],\n",
       "       [ 1.13633716, -1.0794154 ,  0.48530098],\n",
       "       [ 1.13633716, -1.0794154 , -0.1767604 ],\n",
       "       [ 1.13633716, -1.0794154 , -1.35282723],\n",
       "       [ 1.13633716, -1.0794154 , -0.3527514 ],\n",
       "       [ 1.13633716, -1.0794154 , -0.16279286],\n",
       "       [ 1.13633716, -1.0794154 ,  0.26461385],\n",
       "       [ 1.13633716, -1.0794154 , -0.03987851],\n",
       "       [ 1.13633716, -1.0794154 , -1.19080377],\n",
       "       [ 1.13633716, -1.0794154 , -0.05663956],\n",
       "       [ 1.13633716, -1.0794154 , -0.19072794],\n",
       "       [ 1.13633716, -1.0794154 ,  0.97695837],\n",
       "       [ 1.13633716, -1.0794154 , -0.26894616],\n",
       "       [ 1.13633716, -1.0794154 ,  0.16684108],\n",
       "       [ 1.13633716, -1.0794154 , -1.31651163],\n",
       "       [ 1.13633716, -1.0794154 ,  1.04958958],\n",
       "       [ 1.13633716, -1.0794154 , -1.25226094],\n",
       "       [ 1.13633716, -1.0794154 , -0.41979559],\n",
       "       [ 1.13633716, -1.0794154 ,  0.0355462 ],\n",
       "       [ 1.13633716, -1.0794154 ,  0.00761113],\n",
       "       [ 1.13633716,  0.92642739, -1.56513383],\n",
       "       [ 1.13633716,  0.92642739, -0.65724376],\n",
       "       [ 1.13633716,  0.92642739,  0.20595019],\n",
       "       [ 1.13633716,  0.92642739, -1.29695707],\n",
       "       [ 1.13633716,  0.92642739, -0.76898407],\n",
       "       [ 1.13633716,  0.92642739, -1.75788588],\n",
       "       [ 1.13633716,  0.92642739,  0.16125406],\n",
       "       [ 1.13633716,  0.92642739, -0.20469548],\n",
       "       [ 1.13633716,  0.92642739, -2.39201217],\n",
       "       [ 1.13633716,  0.92642739, -1.59586242],\n",
       "       [ 1.13633716,  0.92642739, -0.79691915],\n",
       "       [ 1.13633716,  0.92642739, -0.38068647],\n",
       "       [ 1.13633716,  0.92642739, -0.92821403],\n",
       "       [ 1.13633716,  0.92642739, -0.75222303],\n",
       "       [ 1.13633716,  0.92642739, -1.12096607],\n",
       "       [ 1.13633716,  0.92642739, -0.98408418],\n",
       "       [ 1.13633716,  0.92642739,  0.61938936],\n",
       "       [ 1.13633716,  0.92642739, -1.57072085],\n",
       "       [ 1.13633716,  0.92642739,  0.1752216 ],\n",
       "       [ 1.13633716,  0.92642739, -0.6348957 ],\n",
       "       [ 1.13633716,  0.92642739,  1.0216545 ],\n",
       "       [ 1.13633716,  0.92642739, -0.86955036],\n",
       "       [ 1.13633716,  0.92642739, -2.54006809],\n",
       "       [ 1.13633716,  0.92642739, -1.93387688],\n",
       "       [ 1.13633716,  0.92642739, -0.13765129],\n",
       "       [ 1.13633716,  0.92642739, -1.92828986],\n",
       "       [ 1.13633716,  0.92642739, -1.78861446],\n",
       "       [ 1.13633716,  0.92642739, -0.12089024],\n",
       "       [ 1.13633716,  0.92642739, -1.32209864],\n",
       "       [ 1.13633716,  0.92642739, -1.07068293],\n",
       "       [ 1.13633716,  0.92642739, -1.28298953],\n",
       "       [ 1.13633716,  0.92642739, -1.00922576],\n",
       "       [ 1.13633716,  0.92642739, -0.6712113 ],\n",
       "       [ 1.13633716,  0.92642739, -0.69355936],\n",
       "       [ 1.13633716,  0.92642739, -2.13780295],\n",
       "       [ 1.13633716,  0.92642739,  0.30930998],\n",
       "       [ 1.13633716,  0.92642739, -0.41979559],\n",
       "       [ 1.13633716,  0.92642739,  0.04951374],\n",
       "       [ 1.13633716,  0.92642739,  0.24226579],\n",
       "       [ 1.13633716,  0.92642739, -0.96452963],\n",
       "       [ 1.13633716,  0.92642739,  1.60549765],\n",
       "       [ 1.13633716,  0.92642739,  0.29534244],\n",
       "       [ 1.13633716,  0.92642739, -1.14890115],\n",
       "       [ 1.13633716,  0.92642739,  0.15566704],\n",
       "       [ 1.13633716,  0.92642739,  0.2087437 ],\n",
       "       [ 1.13633716,  0.92642739, -1.16007518],\n",
       "       [ 1.13633716,  0.92642739, -0.65724376],\n",
       "       [ 1.13633716,  0.92642739, -1.10699853],\n",
       "       [ 1.13633716,  0.92642739, -0.77457109],\n",
       "       [ 1.13633716,  0.92642739, -0.66562428]])"
      ]
     },
     "execution_count": 21,
     "metadata": {},
     "output_type": "execute_result"
    }
   ],
   "source": [
    "x"
   ]
  },
  {
   "cell_type": "code",
   "execution_count": 22,
   "metadata": {},
   "outputs": [
    {
     "data": {
      "text/plain": [
       "(236, 3)"
      ]
     },
     "execution_count": 22,
     "metadata": {},
     "output_type": "execute_result"
    }
   ],
   "source": [
    "x.shape"
   ]
  },
  {
   "cell_type": "code",
   "execution_count": 23,
   "metadata": {},
   "outputs": [
    {
     "ename": "ValueError",
     "evalue": "Expected 2D array, got 1D array instead:\narray=[1530. 1297. 1335. 1282. 1590. 1300. 1400. 1255. 1355. 1375. 1340. 1380.\n 1355. 1522. 1208. 1405. 1358. 1292. 1340. 1400. 1357. 1287. 1275. 1270.\n 1505. 1490. 1485. 1310. 1420. 1318. 1432. 1364. 1405. 1432. 1207. 1375.\n 1350. 1236. 1250. 1350. 1320. 1525. 1570. 1340. 1422. 1506. 1215. 1311.\n 1300. 1224. 1350. 1335. 1390. 1400. 1225. 1310. 1560. 1330. 1222. 1415.\n 1175. 1330. 1485. 1470. 1135. 1310. 1154. 1510. 1415. 1468. 1390. 1380.\n 1432. 1240. 1195. 1225. 1188. 1252. 1315. 1245. 1430. 1279. 1245. 1309.\n 1412. 1120. 1220. 1280. 1440. 1370. 1192. 1230. 1346. 1290. 1165. 1240.\n 1132. 1242. 1270. 1218. 1430. 1588. 1320. 1290. 1260. 1425. 1226. 1360.\n 1620. 1310. 1250. 1295. 1290. 1290. 1275. 1250. 1270. 1362. 1300. 1173.\n 1256. 1440. 1180. 1306. 1350. 1125. 1165. 1312. 1300. 1270. 1335. 1450.\n 1310. 1027. 1235. 1260. 1165. 1080. 1127. 1270. 1252. 1200. 1290. 1334.\n 1380. 1140. 1243. 1340. 1168. 1322. 1249. 1321. 1192. 1373. 1170. 1265.\n 1235. 1302. 1241. 1078. 1520. 1460. 1075. 1280. 1180. 1250. 1190. 1374.\n 1306. 1202. 1240. 1316. 1280. 1350. 1180. 1210. 1127. 1324. 1210. 1290.\n 1100. 1280. 1175. 1160. 1205. 1163. 1022. 1243. 1350. 1237. 1204. 1090.\n 1355. 1250. 1076. 1120. 1220. 1240. 1220. 1095. 1235. 1105. 1405. 1150.\n 1305. 1220. 1296. 1175.  955. 1070. 1320. 1060. 1130. 1250. 1225. 1180.\n 1178. 1142. 1130. 1185. 1012. 1280. 1103. 1408. 1300. 1246. 1380. 1350.\n 1060. 1350. 1220. 1110. 1215. 1104. 1170. 1120.].\nReshape your data either using array.reshape(-1, 1) if your data has a single feature or array.reshape(1, -1) if it contains a single sample.",
     "output_type": "error",
     "traceback": [
      "\u001b[1;31m---------------------------------------------------------------------------\u001b[0m",
      "\u001b[1;31mValueError\u001b[0m                                Traceback (most recent call last)",
      "\u001b[1;32m<ipython-input-23-0b35abcdc3e4>\u001b[0m in \u001b[0;36m<module>\u001b[1;34m\u001b[0m\n\u001b[1;32m----> 1\u001b[1;33m \u001b[0my\u001b[0m \u001b[1;33m=\u001b[0m \u001b[0msc\u001b[0m\u001b[1;33m.\u001b[0m\u001b[0mfit_transform\u001b[0m\u001b[1;33m(\u001b[0m\u001b[0my\u001b[0m\u001b[1;33m)\u001b[0m\u001b[1;33m\u001b[0m\u001b[1;33m\u001b[0m\u001b[0m\n\u001b[0m\u001b[0;32m      2\u001b[0m \u001b[0my\u001b[0m\u001b[1;33m\u001b[0m\u001b[1;33m\u001b[0m\u001b[0m\n",
      "\u001b[1;32m~\\Anaconda3\\lib\\site-packages\\sklearn\\base.py\u001b[0m in \u001b[0;36mfit_transform\u001b[1;34m(self, X, y, **fit_params)\u001b[0m\n\u001b[0;32m    551\u001b[0m         \u001b[1;32mif\u001b[0m \u001b[0my\u001b[0m \u001b[1;32mis\u001b[0m \u001b[1;32mNone\u001b[0m\u001b[1;33m:\u001b[0m\u001b[1;33m\u001b[0m\u001b[1;33m\u001b[0m\u001b[0m\n\u001b[0;32m    552\u001b[0m             \u001b[1;31m# fit method of arity 1 (unsupervised transformation)\u001b[0m\u001b[1;33m\u001b[0m\u001b[1;33m\u001b[0m\u001b[1;33m\u001b[0m\u001b[0m\n\u001b[1;32m--> 553\u001b[1;33m             \u001b[1;32mreturn\u001b[0m \u001b[0mself\u001b[0m\u001b[1;33m.\u001b[0m\u001b[0mfit\u001b[0m\u001b[1;33m(\u001b[0m\u001b[0mX\u001b[0m\u001b[1;33m,\u001b[0m \u001b[1;33m**\u001b[0m\u001b[0mfit_params\u001b[0m\u001b[1;33m)\u001b[0m\u001b[1;33m.\u001b[0m\u001b[0mtransform\u001b[0m\u001b[1;33m(\u001b[0m\u001b[0mX\u001b[0m\u001b[1;33m)\u001b[0m\u001b[1;33m\u001b[0m\u001b[1;33m\u001b[0m\u001b[0m\n\u001b[0m\u001b[0;32m    554\u001b[0m         \u001b[1;32melse\u001b[0m\u001b[1;33m:\u001b[0m\u001b[1;33m\u001b[0m\u001b[1;33m\u001b[0m\u001b[0m\n\u001b[0;32m    555\u001b[0m             \u001b[1;31m# fit method of arity 2 (supervised transformation)\u001b[0m\u001b[1;33m\u001b[0m\u001b[1;33m\u001b[0m\u001b[1;33m\u001b[0m\u001b[0m\n",
      "\u001b[1;32m~\\Anaconda3\\lib\\site-packages\\sklearn\\preprocessing\\data.py\u001b[0m in \u001b[0;36mfit\u001b[1;34m(self, X, y)\u001b[0m\n\u001b[0;32m    637\u001b[0m         \u001b[1;31m# Reset internal state before fitting\u001b[0m\u001b[1;33m\u001b[0m\u001b[1;33m\u001b[0m\u001b[1;33m\u001b[0m\u001b[0m\n\u001b[0;32m    638\u001b[0m         \u001b[0mself\u001b[0m\u001b[1;33m.\u001b[0m\u001b[0m_reset\u001b[0m\u001b[1;33m(\u001b[0m\u001b[1;33m)\u001b[0m\u001b[1;33m\u001b[0m\u001b[1;33m\u001b[0m\u001b[0m\n\u001b[1;32m--> 639\u001b[1;33m         \u001b[1;32mreturn\u001b[0m \u001b[0mself\u001b[0m\u001b[1;33m.\u001b[0m\u001b[0mpartial_fit\u001b[0m\u001b[1;33m(\u001b[0m\u001b[0mX\u001b[0m\u001b[1;33m,\u001b[0m \u001b[0my\u001b[0m\u001b[1;33m)\u001b[0m\u001b[1;33m\u001b[0m\u001b[1;33m\u001b[0m\u001b[0m\n\u001b[0m\u001b[0;32m    640\u001b[0m \u001b[1;33m\u001b[0m\u001b[0m\n\u001b[0;32m    641\u001b[0m     \u001b[1;32mdef\u001b[0m \u001b[0mpartial_fit\u001b[0m\u001b[1;33m(\u001b[0m\u001b[0mself\u001b[0m\u001b[1;33m,\u001b[0m \u001b[0mX\u001b[0m\u001b[1;33m,\u001b[0m \u001b[0my\u001b[0m\u001b[1;33m=\u001b[0m\u001b[1;32mNone\u001b[0m\u001b[1;33m)\u001b[0m\u001b[1;33m:\u001b[0m\u001b[1;33m\u001b[0m\u001b[1;33m\u001b[0m\u001b[0m\n",
      "\u001b[1;32m~\\Anaconda3\\lib\\site-packages\\sklearn\\preprocessing\\data.py\u001b[0m in \u001b[0;36mpartial_fit\u001b[1;34m(self, X, y)\u001b[0m\n\u001b[0;32m    661\u001b[0m         X = check_array(X, accept_sparse=('csr', 'csc'), copy=self.copy,\n\u001b[0;32m    662\u001b[0m                         \u001b[0mestimator\u001b[0m\u001b[1;33m=\u001b[0m\u001b[0mself\u001b[0m\u001b[1;33m,\u001b[0m \u001b[0mdtype\u001b[0m\u001b[1;33m=\u001b[0m\u001b[0mFLOAT_DTYPES\u001b[0m\u001b[1;33m,\u001b[0m\u001b[1;33m\u001b[0m\u001b[1;33m\u001b[0m\u001b[0m\n\u001b[1;32m--> 663\u001b[1;33m                         force_all_finite='allow-nan')\n\u001b[0m\u001b[0;32m    664\u001b[0m \u001b[1;33m\u001b[0m\u001b[0m\n\u001b[0;32m    665\u001b[0m         \u001b[1;31m# Even in the case of `with_mean=False`, we update the mean anyway\u001b[0m\u001b[1;33m\u001b[0m\u001b[1;33m\u001b[0m\u001b[1;33m\u001b[0m\u001b[0m\n",
      "\u001b[1;32m~\\Anaconda3\\lib\\site-packages\\sklearn\\utils\\validation.py\u001b[0m in \u001b[0;36mcheck_array\u001b[1;34m(array, accept_sparse, accept_large_sparse, dtype, order, copy, force_all_finite, ensure_2d, allow_nd, ensure_min_samples, ensure_min_features, warn_on_dtype, estimator)\u001b[0m\n\u001b[0;32m    519\u001b[0m                     \u001b[1;34m\"Reshape your data either using array.reshape(-1, 1) if \"\u001b[0m\u001b[1;33m\u001b[0m\u001b[1;33m\u001b[0m\u001b[0m\n\u001b[0;32m    520\u001b[0m                     \u001b[1;34m\"your data has a single feature or array.reshape(1, -1) \"\u001b[0m\u001b[1;33m\u001b[0m\u001b[1;33m\u001b[0m\u001b[0m\n\u001b[1;32m--> 521\u001b[1;33m                     \"if it contains a single sample.\".format(array))\n\u001b[0m\u001b[0;32m    522\u001b[0m \u001b[1;33m\u001b[0m\u001b[0m\n\u001b[0;32m    523\u001b[0m         \u001b[1;31m# in the future np.flexible dtypes will be handled like object dtypes\u001b[0m\u001b[1;33m\u001b[0m\u001b[1;33m\u001b[0m\u001b[1;33m\u001b[0m\u001b[0m\n",
      "\u001b[1;31mValueError\u001b[0m: Expected 2D array, got 1D array instead:\narray=[1530. 1297. 1335. 1282. 1590. 1300. 1400. 1255. 1355. 1375. 1340. 1380.\n 1355. 1522. 1208. 1405. 1358. 1292. 1340. 1400. 1357. 1287. 1275. 1270.\n 1505. 1490. 1485. 1310. 1420. 1318. 1432. 1364. 1405. 1432. 1207. 1375.\n 1350. 1236. 1250. 1350. 1320. 1525. 1570. 1340. 1422. 1506. 1215. 1311.\n 1300. 1224. 1350. 1335. 1390. 1400. 1225. 1310. 1560. 1330. 1222. 1415.\n 1175. 1330. 1485. 1470. 1135. 1310. 1154. 1510. 1415. 1468. 1390. 1380.\n 1432. 1240. 1195. 1225. 1188. 1252. 1315. 1245. 1430. 1279. 1245. 1309.\n 1412. 1120. 1220. 1280. 1440. 1370. 1192. 1230. 1346. 1290. 1165. 1240.\n 1132. 1242. 1270. 1218. 1430. 1588. 1320. 1290. 1260. 1425. 1226. 1360.\n 1620. 1310. 1250. 1295. 1290. 1290. 1275. 1250. 1270. 1362. 1300. 1173.\n 1256. 1440. 1180. 1306. 1350. 1125. 1165. 1312. 1300. 1270. 1335. 1450.\n 1310. 1027. 1235. 1260. 1165. 1080. 1127. 1270. 1252. 1200. 1290. 1334.\n 1380. 1140. 1243. 1340. 1168. 1322. 1249. 1321. 1192. 1373. 1170. 1265.\n 1235. 1302. 1241. 1078. 1520. 1460. 1075. 1280. 1180. 1250. 1190. 1374.\n 1306. 1202. 1240. 1316. 1280. 1350. 1180. 1210. 1127. 1324. 1210. 1290.\n 1100. 1280. 1175. 1160. 1205. 1163. 1022. 1243. 1350. 1237. 1204. 1090.\n 1355. 1250. 1076. 1120. 1220. 1240. 1220. 1095. 1235. 1105. 1405. 1150.\n 1305. 1220. 1296. 1175.  955. 1070. 1320. 1060. 1130. 1250. 1225. 1180.\n 1178. 1142. 1130. 1185. 1012. 1280. 1103. 1408. 1300. 1246. 1380. 1350.\n 1060. 1350. 1220. 1110. 1215. 1104. 1170. 1120.].\nReshape your data either using array.reshape(-1, 1) if your data has a single feature or array.reshape(1, -1) if it contains a single sample."
     ]
    }
   ],
   "source": [
    "y = sc.fit_transform(y)\n",
    "y"
   ]
  },
  {
   "cell_type": "code",
   "execution_count": 24,
   "metadata": {},
   "outputs": [
    {
     "data": {
      "text/plain": [
       "0    1530\n",
       "1    1297\n",
       "2    1335\n",
       "3    1282\n",
       "4    1590\n",
       "Name: BrainWeight, dtype: int64"
      ]
     },
     "execution_count": 24,
     "metadata": {},
     "output_type": "execute_result"
    }
   ],
   "source": [
    "y.head()"
   ]
  },
  {
   "cell_type": "code",
   "execution_count": 26,
   "metadata": {
    "scrolled": true
   },
   "outputs": [
    {
     "data": {
      "text/plain": [
       "array([1530, 1297, 1335, 1282, 1590, 1300, 1400, 1255, 1355, 1375, 1340,\n",
       "       1380, 1355, 1522, 1208, 1405, 1358, 1292, 1340, 1400, 1357, 1287,\n",
       "       1275, 1270, 1505, 1490, 1485, 1310, 1420, 1318, 1432, 1364, 1405,\n",
       "       1432, 1207, 1375, 1350, 1236, 1250, 1350, 1320, 1525, 1570, 1340,\n",
       "       1422, 1506, 1215, 1311, 1300, 1224, 1350, 1335, 1390, 1400, 1225,\n",
       "       1310, 1560, 1330, 1222, 1415, 1175, 1330, 1485, 1470, 1135, 1310,\n",
       "       1154, 1510, 1415, 1468, 1390, 1380, 1432, 1240, 1195, 1225, 1188,\n",
       "       1252, 1315, 1245, 1430, 1279, 1245, 1309, 1412, 1120, 1220, 1280,\n",
       "       1440, 1370, 1192, 1230, 1346, 1290, 1165, 1240, 1132, 1242, 1270,\n",
       "       1218, 1430, 1588, 1320, 1290, 1260, 1425, 1226, 1360, 1620, 1310,\n",
       "       1250, 1295, 1290, 1290, 1275, 1250, 1270, 1362, 1300, 1173, 1256,\n",
       "       1440, 1180, 1306, 1350, 1125, 1165, 1312, 1300, 1270, 1335, 1450,\n",
       "       1310, 1027, 1235, 1260, 1165, 1080, 1127, 1270, 1252, 1200, 1290,\n",
       "       1334, 1380, 1140, 1243, 1340, 1168, 1322, 1249, 1321, 1192, 1373,\n",
       "       1170, 1265, 1235, 1302, 1241, 1078, 1520, 1460, 1075, 1280, 1180,\n",
       "       1250, 1190, 1374, 1306, 1202, 1240, 1316, 1280, 1350, 1180, 1210,\n",
       "       1127, 1324, 1210, 1290, 1100, 1280, 1175, 1160, 1205, 1163, 1022,\n",
       "       1243, 1350, 1237, 1204, 1090, 1355, 1250, 1076, 1120, 1220, 1240,\n",
       "       1220, 1095, 1235, 1105, 1405, 1150, 1305, 1220, 1296, 1175,  955,\n",
       "       1070, 1320, 1060, 1130, 1250, 1225, 1180, 1178, 1142, 1130, 1185,\n",
       "       1012, 1280, 1103, 1408, 1300, 1246, 1380, 1350, 1060, 1350, 1220,\n",
       "       1110, 1215, 1104, 1170, 1120], dtype=int64)"
      ]
     },
     "execution_count": 26,
     "metadata": {},
     "output_type": "execute_result"
    }
   ],
   "source": [
    "y=np.array(y)\n",
    "y"
   ]
  },
  {
   "cell_type": "code",
   "execution_count": 27,
   "metadata": {},
   "outputs": [
    {
     "data": {
      "text/plain": [
       "(236,)"
      ]
     },
     "execution_count": 27,
     "metadata": {},
     "output_type": "execute_result"
    }
   ],
   "source": [
    "y.shape"
   ]
  },
  {
   "cell_type": "code",
   "execution_count": 32,
   "metadata": {},
   "outputs": [
    {
     "name": "stdout",
     "output_type": "stream",
     "text": [
      "r2_score corresponding to random state  42 is : 0.6462193494805646\n",
      "r2_score corresponding to random state  43 is : 0.7236070967108654\n",
      "r2_score corresponding to random state  44 is : 0.5240868911896708\n",
      "r2_score corresponding to random state  45 is : 0.6713851361613121\n",
      "r2_score corresponding to random state  46 is : 0.7022370795501127\n",
      "r2_score corresponding to random state  47 is : 0.6788696993018636\n",
      "r2_score corresponding to random state  48 is : 0.6601284719940325\n",
      "r2_score corresponding to random state  49 is : 0.6786975283292387\n",
      "r2_score corresponding to random state  50 is : 0.649478398423236\n",
      "r2_score corresponding to random state  51 is : 0.5254091484586849\n",
      "r2_score corresponding to random state  52 is : 0.7267067034175876\n",
      "r2_score corresponding to random state  53 is : 0.670769999538779\n",
      "r2_score corresponding to random state  54 is : 0.6317348185339762\n",
      "r2_score corresponding to random state  55 is : 0.6606492454788905\n",
      "r2_score corresponding to random state  56 is : 0.5932250769180106\n",
      "r2_score corresponding to random state  57 is : 0.5966993024414147\n",
      "r2_score corresponding to random state  58 is : 0.7075837907293181\n",
      "r2_score corresponding to random state  59 is : 0.6132401788567142\n",
      "r2_score corresponding to random state  60 is : 0.7199574223436056\n",
      "r2_score corresponding to random state  61 is : 0.6520484113607667\n",
      "r2_score corresponding to random state  62 is : 0.6313182580854649\n",
      "r2_score corresponding to random state  63 is : 0.6690635387947679\n",
      "r2_score corresponding to random state  64 is : 0.6673422646011613\n",
      "r2_score corresponding to random state  65 is : 0.6072496754586423\n",
      "r2_score corresponding to random state  66 is : 0.5871334668812703\n",
      "r2_score corresponding to random state  67 is : 0.6081122881864889\n",
      "r2_score corresponding to random state  68 is : 0.6896743929943705\n",
      "r2_score corresponding to random state  69 is : 0.6786716471397656\n",
      "r2_score corresponding to random state  70 is : 0.6304294101390158\n",
      "r2_score corresponding to random state  71 is : 0.6400686245522078\n",
      "r2_score corresponding to random state  72 is : 0.584804939158817\n",
      "r2_score corresponding to random state  73 is : 0.5388766112754664\n",
      "r2_score corresponding to random state  74 is : 0.6481347590066594\n",
      "r2_score corresponding to random state  75 is : 0.4388070341390654\n",
      "r2_score corresponding to random state  76 is : 0.5641699079619023\n",
      "r2_score corresponding to random state  77 is : 0.6682241168043338\n",
      "r2_score corresponding to random state  78 is : 0.5669999630792657\n",
      "r2_score corresponding to random state  79 is : 0.6464138945119668\n",
      "r2_score corresponding to random state  80 is : 0.4733143565395218\n",
      "r2_score corresponding to random state  81 is : 0.6674240218931032\n",
      "r2_score corresponding to random state  82 is : 0.6876742866429942\n",
      "r2_score corresponding to random state  83 is : 0.5899469072592971\n",
      "r2_score corresponding to random state  84 is : 0.6330940061909136\n",
      "r2_score corresponding to random state  85 is : 0.6183271729772566\n",
      "r2_score corresponding to random state  86 is : 0.5282443460371504\n",
      "r2_score corresponding to random state  87 is : 0.6297334780064756\n",
      "r2_score corresponding to random state  88 is : 0.6342201985160594\n",
      "r2_score corresponding to random state  89 is : 0.626489322692802\n",
      "r2_score corresponding to random state  90 is : 0.6909456027613359\n",
      "r2_score corresponding to random state  91 is : 0.6690795825587866\n",
      "r2_score corresponding to random state  92 is : 0.7582150696346837\n",
      "r2_score corresponding to random state  93 is : 0.6539081071782722\n",
      "r2_score corresponding to random state  94 is : 0.7144092892287792\n",
      "r2_score corresponding to random state  95 is : 0.6449039812176601\n",
      "r2_score corresponding to random state  96 is : 0.7305716642657708\n",
      "r2_score corresponding to random state  97 is : 0.6033368087724262\n",
      "r2_score corresponding to random state  98 is : 0.657000746371991\n",
      "r2_score corresponding to random state  99 is : 0.6503238909207738\n",
      "r2_score corresponding to random state  100 is : 0.6283585686960502\n",
      "\n",
      "\n",
      "max r score corresponding to  92 is: 0.7582150696346837\n"
     ]
    }
   ],
   "source": [
    "from sklearn.model_selection import train_test_split\n",
    "from sklearn.metrics import mean_absolute_error\n",
    "from sklearn.metrics import mean_squared_error\n",
    "from sklearn.metrics import r2_score\n",
    "from sklearn import linear_model\n",
    "max_r_score=0\n",
    "for r_state in range(42,101):\n",
    "    x_train,x_test,y_train,y_test = train_test_split(x,y,random_state=r_state,test_size=0.30)\n",
    "    regr=linear_model.LinearRegression()\n",
    "    regr.fit(x_train,y_train)\n",
    "    y_pred=regr.predict(x_test)\n",
    "    r2_scr=r2_score(y_test,y_pred)\n",
    "    print(\"r2_score corresponding to random state \", r_state,\"is :\",r2_scr)\n",
    "    \n",
    "    if r2_scr>max_r_score:\n",
    "        max_r_score=r2_scr\n",
    "        final_r_state = r_state\n",
    "        \n",
    "        \n",
    "print()\n",
    "print()\n",
    "print(\"max r score corresponding to \",final_r_state,\"is:\",max_r_score)\n",
    "        "
   ]
  },
  {
   "cell_type": "code",
   "execution_count": 33,
   "metadata": {},
   "outputs": [
    {
     "data": {
      "text/plain": [
       "0.4855213166049249"
      ]
     },
     "execution_count": 33,
     "metadata": {},
     "output_type": "execute_result"
    }
   ],
   "source": [
    "#lets do a cross val score\n",
    "from sklearn.model_selection import cross_val_score\n",
    "cross_val_score(linear_model.LinearRegression(),x,y, cv=5,scoring=\"r2\").mean()"
   ]
  },
  {
   "cell_type": "markdown",
   "metadata": {},
   "source": [
    "#the above cross val score is less and it shows that we need to further improve our model with more data"
   ]
  },
  {
   "cell_type": "code",
   "execution_count": 38,
   "metadata": {},
   "outputs": [],
   "source": [
    "#since maximun r2 score is coingaround randomstate 92 , so we will form our model around that random state\n",
    "x_train,x_test,y_train,y_test = train_test_split(x,y,random_state=92,test_size=0.20)\n",
    "lr=linear_model.LinearRegression()\n",
    "lr.fit(x_train,y_train)\n",
    "y_pred=lr.predict(x_test)\n"
   ]
  },
  {
   "cell_type": "code",
   "execution_count": 40,
   "metadata": {},
   "outputs": [
    {
     "name": "stdout",
     "output_type": "stream",
     "text": [
      "r2 score is : 0.7580070299154203\n",
      "RMSE is : 57.309273702463955\n"
     ]
    }
   ],
   "source": [
    "#lets evaluate RMSE and r2 score\n",
    "from sklearn.metrics import mean_squared_error\n",
    "from sklearn.metrics import r2_score\n",
    "\n",
    "print(\"r2 score is :\",r2_score(y_test,y_pred))\n",
    "print(\"RMSE is :\",np.sqrt(mean_squared_error(y_test,y_pred)))"
   ]
  },
  {
   "cell_type": "code",
   "execution_count": 41,
   "metadata": {},
   "outputs": [
    {
     "name": "stderr",
     "output_type": "stream",
     "text": [
      "C:\\Users\\Dell\\Anaconda3\\lib\\site-packages\\sklearn\\externals\\joblib\\__init__.py:15: DeprecationWarning: sklearn.externals.joblib is deprecated in 0.21 and will be removed in 0.23. Please import this functionality directly from joblib, which can be installed with: pip install joblib. If this warning is raised when loading pickled models, you may need to re-serialize those models with scikit-learn 0.21+.\n",
      "  warnings.warn(msg, category=DeprecationWarning)\n"
     ]
    }
   ],
   "source": [
    "#lets save the model using joblib\n",
    "from sklearn.externals import joblib\n",
    "#save the model as apickle file\n",
    "#joblib.dump(lr , 'lr.headbrain.pkl')"
   ]
  },
  {
   "cell_type": "code",
   "execution_count": null,
   "metadata": {},
   "outputs": [],
   "source": []
  }
 ],
 "metadata": {
  "kernelspec": {
   "display_name": "Python 3",
   "language": "python",
   "name": "python3"
  },
  "language_info": {
   "codemirror_mode": {
    "name": "ipython",
    "version": 3
   },
   "file_extension": ".py",
   "mimetype": "text/x-python",
   "name": "python",
   "nbconvert_exporter": "python",
   "pygments_lexer": "ipython3",
   "version": "3.7.4"
  }
 },
 "nbformat": 4,
 "nbformat_minor": 2
}
