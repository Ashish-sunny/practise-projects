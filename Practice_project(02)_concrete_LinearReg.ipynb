{
 "cells": [
  {
   "cell_type": "code",
   "execution_count": 1,
   "metadata": {},
   "outputs": [],
   "source": [
    "import pandas as pd\n",
    "import numpy as np\n",
    "import seaborn as sns\n",
    "import matplotlib\n",
    "import matplotlib.pyplot as plt"
   ]
  },
  {
   "cell_type": "code",
   "execution_count": 2,
   "metadata": {},
   "outputs": [
    {
     "data": {
      "text/html": [
       "<div>\n",
       "<style scoped>\n",
       "    .dataframe tbody tr th:only-of-type {\n",
       "        vertical-align: middle;\n",
       "    }\n",
       "\n",
       "    .dataframe tbody tr th {\n",
       "        vertical-align: top;\n",
       "    }\n",
       "\n",
       "    .dataframe thead th {\n",
       "        text-align: right;\n",
       "    }\n",
       "</style>\n",
       "<table border=\"1\" class=\"dataframe\">\n",
       "  <thead>\n",
       "    <tr style=\"text-align: right;\">\n",
       "      <th></th>\n",
       "      <th>Cement (component 1)(kg in a m^3 mixture)</th>\n",
       "      <th>Blast Furnace Slag (component 2)(kg in a m^3 mixture)</th>\n",
       "      <th>Fly Ash (component 3)(kg in a m^3 mixture)</th>\n",
       "      <th>Water  (component 4)(kg in a m^3 mixture)</th>\n",
       "      <th>Superplasticizer (component 5)(kg in a m^3 mixture)</th>\n",
       "      <th>Coarse Aggregate  (component 6)(kg in a m^3 mixture)</th>\n",
       "      <th>Fine Aggregate (component 7)(kg in a m^3 mixture)</th>\n",
       "      <th>Age (day)</th>\n",
       "      <th>Concrete compressive strength(MPa, megapascals)</th>\n",
       "    </tr>\n",
       "  </thead>\n",
       "  <tbody>\n",
       "    <tr>\n",
       "      <td>0</td>\n",
       "      <td>540.0</td>\n",
       "      <td>0.0</td>\n",
       "      <td>0.0</td>\n",
       "      <td>162.0</td>\n",
       "      <td>2.5</td>\n",
       "      <td>1040.0</td>\n",
       "      <td>676.0</td>\n",
       "      <td>28</td>\n",
       "      <td>79.986111</td>\n",
       "    </tr>\n",
       "    <tr>\n",
       "      <td>1</td>\n",
       "      <td>540.0</td>\n",
       "      <td>0.0</td>\n",
       "      <td>0.0</td>\n",
       "      <td>162.0</td>\n",
       "      <td>2.5</td>\n",
       "      <td>1055.0</td>\n",
       "      <td>676.0</td>\n",
       "      <td>28</td>\n",
       "      <td>61.887366</td>\n",
       "    </tr>\n",
       "    <tr>\n",
       "      <td>2</td>\n",
       "      <td>332.5</td>\n",
       "      <td>142.5</td>\n",
       "      <td>0.0</td>\n",
       "      <td>228.0</td>\n",
       "      <td>0.0</td>\n",
       "      <td>932.0</td>\n",
       "      <td>594.0</td>\n",
       "      <td>270</td>\n",
       "      <td>40.269535</td>\n",
       "    </tr>\n",
       "    <tr>\n",
       "      <td>3</td>\n",
       "      <td>332.5</td>\n",
       "      <td>142.5</td>\n",
       "      <td>0.0</td>\n",
       "      <td>228.0</td>\n",
       "      <td>0.0</td>\n",
       "      <td>932.0</td>\n",
       "      <td>594.0</td>\n",
       "      <td>365</td>\n",
       "      <td>41.052780</td>\n",
       "    </tr>\n",
       "    <tr>\n",
       "      <td>4</td>\n",
       "      <td>198.6</td>\n",
       "      <td>132.4</td>\n",
       "      <td>0.0</td>\n",
       "      <td>192.0</td>\n",
       "      <td>0.0</td>\n",
       "      <td>978.4</td>\n",
       "      <td>825.5</td>\n",
       "      <td>360</td>\n",
       "      <td>44.296075</td>\n",
       "    </tr>\n",
       "    <tr>\n",
       "      <td>...</td>\n",
       "      <td>...</td>\n",
       "      <td>...</td>\n",
       "      <td>...</td>\n",
       "      <td>...</td>\n",
       "      <td>...</td>\n",
       "      <td>...</td>\n",
       "      <td>...</td>\n",
       "      <td>...</td>\n",
       "      <td>...</td>\n",
       "    </tr>\n",
       "    <tr>\n",
       "      <td>1025</td>\n",
       "      <td>276.4</td>\n",
       "      <td>116.0</td>\n",
       "      <td>90.3</td>\n",
       "      <td>179.6</td>\n",
       "      <td>8.9</td>\n",
       "      <td>870.1</td>\n",
       "      <td>768.3</td>\n",
       "      <td>28</td>\n",
       "      <td>44.284354</td>\n",
       "    </tr>\n",
       "    <tr>\n",
       "      <td>1026</td>\n",
       "      <td>322.2</td>\n",
       "      <td>0.0</td>\n",
       "      <td>115.6</td>\n",
       "      <td>196.0</td>\n",
       "      <td>10.4</td>\n",
       "      <td>817.9</td>\n",
       "      <td>813.4</td>\n",
       "      <td>28</td>\n",
       "      <td>31.178794</td>\n",
       "    </tr>\n",
       "    <tr>\n",
       "      <td>1027</td>\n",
       "      <td>148.5</td>\n",
       "      <td>139.4</td>\n",
       "      <td>108.6</td>\n",
       "      <td>192.7</td>\n",
       "      <td>6.1</td>\n",
       "      <td>892.4</td>\n",
       "      <td>780.0</td>\n",
       "      <td>28</td>\n",
       "      <td>23.696601</td>\n",
       "    </tr>\n",
       "    <tr>\n",
       "      <td>1028</td>\n",
       "      <td>159.1</td>\n",
       "      <td>186.7</td>\n",
       "      <td>0.0</td>\n",
       "      <td>175.6</td>\n",
       "      <td>11.3</td>\n",
       "      <td>989.6</td>\n",
       "      <td>788.9</td>\n",
       "      <td>28</td>\n",
       "      <td>32.768036</td>\n",
       "    </tr>\n",
       "    <tr>\n",
       "      <td>1029</td>\n",
       "      <td>260.9</td>\n",
       "      <td>100.5</td>\n",
       "      <td>78.3</td>\n",
       "      <td>200.6</td>\n",
       "      <td>8.6</td>\n",
       "      <td>864.5</td>\n",
       "      <td>761.5</td>\n",
       "      <td>28</td>\n",
       "      <td>32.401235</td>\n",
       "    </tr>\n",
       "  </tbody>\n",
       "</table>\n",
       "<p>1030 rows × 9 columns</p>\n",
       "</div>"
      ],
      "text/plain": [
       "      Cement (component 1)(kg in a m^3 mixture)  \\\n",
       "0                                         540.0   \n",
       "1                                         540.0   \n",
       "2                                         332.5   \n",
       "3                                         332.5   \n",
       "4                                         198.6   \n",
       "...                                         ...   \n",
       "1025                                      276.4   \n",
       "1026                                      322.2   \n",
       "1027                                      148.5   \n",
       "1028                                      159.1   \n",
       "1029                                      260.9   \n",
       "\n",
       "      Blast Furnace Slag (component 2)(kg in a m^3 mixture)  \\\n",
       "0                                                   0.0       \n",
       "1                                                   0.0       \n",
       "2                                                 142.5       \n",
       "3                                                 142.5       \n",
       "4                                                 132.4       \n",
       "...                                                 ...       \n",
       "1025                                              116.0       \n",
       "1026                                                0.0       \n",
       "1027                                              139.4       \n",
       "1028                                              186.7       \n",
       "1029                                              100.5       \n",
       "\n",
       "      Fly Ash (component 3)(kg in a m^3 mixture)  \\\n",
       "0                                            0.0   \n",
       "1                                            0.0   \n",
       "2                                            0.0   \n",
       "3                                            0.0   \n",
       "4                                            0.0   \n",
       "...                                          ...   \n",
       "1025                                        90.3   \n",
       "1026                                       115.6   \n",
       "1027                                       108.6   \n",
       "1028                                         0.0   \n",
       "1029                                        78.3   \n",
       "\n",
       "      Water  (component 4)(kg in a m^3 mixture)  \\\n",
       "0                                         162.0   \n",
       "1                                         162.0   \n",
       "2                                         228.0   \n",
       "3                                         228.0   \n",
       "4                                         192.0   \n",
       "...                                         ...   \n",
       "1025                                      179.6   \n",
       "1026                                      196.0   \n",
       "1027                                      192.7   \n",
       "1028                                      175.6   \n",
       "1029                                      200.6   \n",
       "\n",
       "      Superplasticizer (component 5)(kg in a m^3 mixture)  \\\n",
       "0                                                   2.5     \n",
       "1                                                   2.5     \n",
       "2                                                   0.0     \n",
       "3                                                   0.0     \n",
       "4                                                   0.0     \n",
       "...                                                 ...     \n",
       "1025                                                8.9     \n",
       "1026                                               10.4     \n",
       "1027                                                6.1     \n",
       "1028                                               11.3     \n",
       "1029                                                8.6     \n",
       "\n",
       "      Coarse Aggregate  (component 6)(kg in a m^3 mixture)  \\\n",
       "0                                                1040.0      \n",
       "1                                                1055.0      \n",
       "2                                                 932.0      \n",
       "3                                                 932.0      \n",
       "4                                                 978.4      \n",
       "...                                                 ...      \n",
       "1025                                              870.1      \n",
       "1026                                              817.9      \n",
       "1027                                              892.4      \n",
       "1028                                              989.6      \n",
       "1029                                              864.5      \n",
       "\n",
       "      Fine Aggregate (component 7)(kg in a m^3 mixture)  Age (day)  \\\n",
       "0                                                 676.0         28   \n",
       "1                                                 676.0         28   \n",
       "2                                                 594.0        270   \n",
       "3                                                 594.0        365   \n",
       "4                                                 825.5        360   \n",
       "...                                                 ...        ...   \n",
       "1025                                              768.3         28   \n",
       "1026                                              813.4         28   \n",
       "1027                                              780.0         28   \n",
       "1028                                              788.9         28   \n",
       "1029                                              761.5         28   \n",
       "\n",
       "      Concrete compressive strength(MPa, megapascals)   \n",
       "0                                            79.986111  \n",
       "1                                            61.887366  \n",
       "2                                            40.269535  \n",
       "3                                            41.052780  \n",
       "4                                            44.296075  \n",
       "...                                                ...  \n",
       "1025                                         44.284354  \n",
       "1026                                         31.178794  \n",
       "1027                                         23.696601  \n",
       "1028                                         32.768036  \n",
       "1029                                         32.401235  \n",
       "\n",
       "[1030 rows x 9 columns]"
      ]
     },
     "execution_count": 2,
     "metadata": {},
     "output_type": "execute_result"
    }
   ],
   "source": [
    "df=pd.read_excel(\"Data_Concrete.xlsx\")\n",
    "df"
   ]
  },
  {
   "cell_type": "code",
   "execution_count": 3,
   "metadata": {},
   "outputs": [
    {
     "data": {
      "text/plain": [
       "Index(['Cement (component 1)(kg in a m^3 mixture)',\n",
       "       'Blast Furnace Slag (component 2)(kg in a m^3 mixture)',\n",
       "       'Fly Ash (component 3)(kg in a m^3 mixture)',\n",
       "       'Water  (component 4)(kg in a m^3 mixture)',\n",
       "       'Superplasticizer (component 5)(kg in a m^3 mixture)',\n",
       "       'Coarse Aggregate  (component 6)(kg in a m^3 mixture)',\n",
       "       'Fine Aggregate (component 7)(kg in a m^3 mixture)', 'Age (day)',\n",
       "       'Concrete compressive strength(MPa, megapascals) '],\n",
       "      dtype='object')"
      ]
     },
     "execution_count": 3,
     "metadata": {},
     "output_type": "execute_result"
    }
   ],
   "source": [
    "df.columns"
   ]
  },
  {
   "cell_type": "code",
   "execution_count": 4,
   "metadata": {},
   "outputs": [
    {
     "data": {
      "text/html": [
       "<div>\n",
       "<style scoped>\n",
       "    .dataframe tbody tr th:only-of-type {\n",
       "        vertical-align: middle;\n",
       "    }\n",
       "\n",
       "    .dataframe tbody tr th {\n",
       "        vertical-align: top;\n",
       "    }\n",
       "\n",
       "    .dataframe thead th {\n",
       "        text-align: right;\n",
       "    }\n",
       "</style>\n",
       "<table border=\"1\" class=\"dataframe\">\n",
       "  <thead>\n",
       "    <tr style=\"text-align: right;\">\n",
       "      <th></th>\n",
       "      <th>Cement</th>\n",
       "      <th>Blast_Furnance</th>\n",
       "      <th>Fly_Ash</th>\n",
       "      <th>Water</th>\n",
       "      <th>Superplasticizer</th>\n",
       "      <th>Coarse_Aggregate</th>\n",
       "      <th>Fine_Aggregate</th>\n",
       "      <th>Age</th>\n",
       "      <th>Strength</th>\n",
       "    </tr>\n",
       "  </thead>\n",
       "  <tbody>\n",
       "    <tr>\n",
       "      <td>0</td>\n",
       "      <td>540.0</td>\n",
       "      <td>0.0</td>\n",
       "      <td>0.0</td>\n",
       "      <td>162.0</td>\n",
       "      <td>2.5</td>\n",
       "      <td>1040.0</td>\n",
       "      <td>676.0</td>\n",
       "      <td>28</td>\n",
       "      <td>79.986111</td>\n",
       "    </tr>\n",
       "    <tr>\n",
       "      <td>1</td>\n",
       "      <td>540.0</td>\n",
       "      <td>0.0</td>\n",
       "      <td>0.0</td>\n",
       "      <td>162.0</td>\n",
       "      <td>2.5</td>\n",
       "      <td>1055.0</td>\n",
       "      <td>676.0</td>\n",
       "      <td>28</td>\n",
       "      <td>61.887366</td>\n",
       "    </tr>\n",
       "    <tr>\n",
       "      <td>2</td>\n",
       "      <td>332.5</td>\n",
       "      <td>142.5</td>\n",
       "      <td>0.0</td>\n",
       "      <td>228.0</td>\n",
       "      <td>0.0</td>\n",
       "      <td>932.0</td>\n",
       "      <td>594.0</td>\n",
       "      <td>270</td>\n",
       "      <td>40.269535</td>\n",
       "    </tr>\n",
       "    <tr>\n",
       "      <td>3</td>\n",
       "      <td>332.5</td>\n",
       "      <td>142.5</td>\n",
       "      <td>0.0</td>\n",
       "      <td>228.0</td>\n",
       "      <td>0.0</td>\n",
       "      <td>932.0</td>\n",
       "      <td>594.0</td>\n",
       "      <td>365</td>\n",
       "      <td>41.052780</td>\n",
       "    </tr>\n",
       "    <tr>\n",
       "      <td>4</td>\n",
       "      <td>198.6</td>\n",
       "      <td>132.4</td>\n",
       "      <td>0.0</td>\n",
       "      <td>192.0</td>\n",
       "      <td>0.0</td>\n",
       "      <td>978.4</td>\n",
       "      <td>825.5</td>\n",
       "      <td>360</td>\n",
       "      <td>44.296075</td>\n",
       "    </tr>\n",
       "  </tbody>\n",
       "</table>\n",
       "</div>"
      ],
      "text/plain": [
       "   Cement  Blast_Furnance  Fly_Ash  Water  Superplasticizer  Coarse_Aggregate  \\\n",
       "0   540.0             0.0      0.0  162.0               2.5            1040.0   \n",
       "1   540.0             0.0      0.0  162.0               2.5            1055.0   \n",
       "2   332.5           142.5      0.0  228.0               0.0             932.0   \n",
       "3   332.5           142.5      0.0  228.0               0.0             932.0   \n",
       "4   198.6           132.4      0.0  192.0               0.0             978.4   \n",
       "\n",
       "   Fine_Aggregate  Age   Strength  \n",
       "0           676.0   28  79.986111  \n",
       "1           676.0   28  61.887366  \n",
       "2           594.0  270  40.269535  \n",
       "3           594.0  365  41.052780  \n",
       "4           825.5  360  44.296075  "
      ]
     },
     "execution_count": 4,
     "metadata": {},
     "output_type": "execute_result"
    }
   ],
   "source": [
    "df.columns=[\"Cement\",'Blast_Furnance','Fly_Ash','Water','Superplasticizer','Coarse_Aggregate','Fine_Aggregate','Age','Strength']\n",
    "df.head()"
   ]
  },
  {
   "cell_type": "code",
   "execution_count": 5,
   "metadata": {},
   "outputs": [
    {
     "data": {
      "text/plain": [
       "(1030, 9)"
      ]
     },
     "execution_count": 5,
     "metadata": {},
     "output_type": "execute_result"
    }
   ],
   "source": [
    "df.shape"
   ]
  },
  {
   "cell_type": "code",
   "execution_count": null,
   "metadata": {},
   "outputs": [],
   "source": []
  },
  {
   "cell_type": "code",
   "execution_count": 6,
   "metadata": {},
   "outputs": [
    {
     "name": "stdout",
     "output_type": "stream",
     "text": [
      "<bound method DataFrame.info of       Cement  Blast_Furnance  Fly_Ash  Water  Superplasticizer  \\\n",
      "0      540.0             0.0      0.0  162.0               2.5   \n",
      "1      540.0             0.0      0.0  162.0               2.5   \n",
      "2      332.5           142.5      0.0  228.0               0.0   \n",
      "3      332.5           142.5      0.0  228.0               0.0   \n",
      "4      198.6           132.4      0.0  192.0               0.0   \n",
      "...      ...             ...      ...    ...               ...   \n",
      "1025   276.4           116.0     90.3  179.6               8.9   \n",
      "1026   322.2             0.0    115.6  196.0              10.4   \n",
      "1027   148.5           139.4    108.6  192.7               6.1   \n",
      "1028   159.1           186.7      0.0  175.6              11.3   \n",
      "1029   260.9           100.5     78.3  200.6               8.6   \n",
      "\n",
      "      Coarse_Aggregate  Fine_Aggregate  Age   Strength  \n",
      "0               1040.0           676.0   28  79.986111  \n",
      "1               1055.0           676.0   28  61.887366  \n",
      "2                932.0           594.0  270  40.269535  \n",
      "3                932.0           594.0  365  41.052780  \n",
      "4                978.4           825.5  360  44.296075  \n",
      "...                ...             ...  ...        ...  \n",
      "1025             870.1           768.3   28  44.284354  \n",
      "1026             817.9           813.4   28  31.178794  \n",
      "1027             892.4           780.0   28  23.696601  \n",
      "1028             989.6           788.9   28  32.768036  \n",
      "1029             864.5           761.5   28  32.401235  \n",
      "\n",
      "[1030 rows x 9 columns]>\n"
     ]
    }
   ],
   "source": [
    "print(df.info)"
   ]
  },
  {
   "cell_type": "code",
   "execution_count": 7,
   "metadata": {},
   "outputs": [
    {
     "data": {
      "text/html": [
       "<div>\n",
       "<style scoped>\n",
       "    .dataframe tbody tr th:only-of-type {\n",
       "        vertical-align: middle;\n",
       "    }\n",
       "\n",
       "    .dataframe tbody tr th {\n",
       "        vertical-align: top;\n",
       "    }\n",
       "\n",
       "    .dataframe thead th {\n",
       "        text-align: right;\n",
       "    }\n",
       "</style>\n",
       "<table border=\"1\" class=\"dataframe\">\n",
       "  <thead>\n",
       "    <tr style=\"text-align: right;\">\n",
       "      <th></th>\n",
       "      <th>Cement</th>\n",
       "      <th>Blast_Furnance</th>\n",
       "      <th>Fly_Ash</th>\n",
       "      <th>Water</th>\n",
       "      <th>Superplasticizer</th>\n",
       "      <th>Coarse_Aggregate</th>\n",
       "      <th>Fine_Aggregate</th>\n",
       "      <th>Age</th>\n",
       "      <th>Strength</th>\n",
       "    </tr>\n",
       "  </thead>\n",
       "  <tbody>\n",
       "    <tr>\n",
       "      <td>count</td>\n",
       "      <td>1030.000000</td>\n",
       "      <td>1030.000000</td>\n",
       "      <td>1030.000000</td>\n",
       "      <td>1030.000000</td>\n",
       "      <td>1030.000000</td>\n",
       "      <td>1030.000000</td>\n",
       "      <td>1030.000000</td>\n",
       "      <td>1030.000000</td>\n",
       "      <td>1030.000000</td>\n",
       "    </tr>\n",
       "    <tr>\n",
       "      <td>mean</td>\n",
       "      <td>281.165631</td>\n",
       "      <td>73.895485</td>\n",
       "      <td>54.187136</td>\n",
       "      <td>181.566359</td>\n",
       "      <td>6.203112</td>\n",
       "      <td>972.918592</td>\n",
       "      <td>773.578883</td>\n",
       "      <td>45.662136</td>\n",
       "      <td>35.817836</td>\n",
       "    </tr>\n",
       "    <tr>\n",
       "      <td>std</td>\n",
       "      <td>104.507142</td>\n",
       "      <td>86.279104</td>\n",
       "      <td>63.996469</td>\n",
       "      <td>21.355567</td>\n",
       "      <td>5.973492</td>\n",
       "      <td>77.753818</td>\n",
       "      <td>80.175427</td>\n",
       "      <td>63.169912</td>\n",
       "      <td>16.705679</td>\n",
       "    </tr>\n",
       "    <tr>\n",
       "      <td>min</td>\n",
       "      <td>102.000000</td>\n",
       "      <td>0.000000</td>\n",
       "      <td>0.000000</td>\n",
       "      <td>121.750000</td>\n",
       "      <td>0.000000</td>\n",
       "      <td>801.000000</td>\n",
       "      <td>594.000000</td>\n",
       "      <td>1.000000</td>\n",
       "      <td>2.331808</td>\n",
       "    </tr>\n",
       "    <tr>\n",
       "      <td>25%</td>\n",
       "      <td>192.375000</td>\n",
       "      <td>0.000000</td>\n",
       "      <td>0.000000</td>\n",
       "      <td>164.900000</td>\n",
       "      <td>0.000000</td>\n",
       "      <td>932.000000</td>\n",
       "      <td>730.950000</td>\n",
       "      <td>7.000000</td>\n",
       "      <td>23.707115</td>\n",
       "    </tr>\n",
       "    <tr>\n",
       "      <td>50%</td>\n",
       "      <td>272.900000</td>\n",
       "      <td>22.000000</td>\n",
       "      <td>0.000000</td>\n",
       "      <td>185.000000</td>\n",
       "      <td>6.350000</td>\n",
       "      <td>968.000000</td>\n",
       "      <td>779.510000</td>\n",
       "      <td>28.000000</td>\n",
       "      <td>34.442774</td>\n",
       "    </tr>\n",
       "    <tr>\n",
       "      <td>75%</td>\n",
       "      <td>350.000000</td>\n",
       "      <td>142.950000</td>\n",
       "      <td>118.270000</td>\n",
       "      <td>192.000000</td>\n",
       "      <td>10.160000</td>\n",
       "      <td>1029.400000</td>\n",
       "      <td>824.000000</td>\n",
       "      <td>56.000000</td>\n",
       "      <td>46.136287</td>\n",
       "    </tr>\n",
       "    <tr>\n",
       "      <td>max</td>\n",
       "      <td>540.000000</td>\n",
       "      <td>359.400000</td>\n",
       "      <td>200.100000</td>\n",
       "      <td>247.000000</td>\n",
       "      <td>32.200000</td>\n",
       "      <td>1145.000000</td>\n",
       "      <td>992.600000</td>\n",
       "      <td>365.000000</td>\n",
       "      <td>82.599225</td>\n",
       "    </tr>\n",
       "  </tbody>\n",
       "</table>\n",
       "</div>"
      ],
      "text/plain": [
       "            Cement  Blast_Furnance      Fly_Ash        Water  \\\n",
       "count  1030.000000     1030.000000  1030.000000  1030.000000   \n",
       "mean    281.165631       73.895485    54.187136   181.566359   \n",
       "std     104.507142       86.279104    63.996469    21.355567   \n",
       "min     102.000000        0.000000     0.000000   121.750000   \n",
       "25%     192.375000        0.000000     0.000000   164.900000   \n",
       "50%     272.900000       22.000000     0.000000   185.000000   \n",
       "75%     350.000000      142.950000   118.270000   192.000000   \n",
       "max     540.000000      359.400000   200.100000   247.000000   \n",
       "\n",
       "       Superplasticizer  Coarse_Aggregate  Fine_Aggregate          Age  \\\n",
       "count       1030.000000       1030.000000     1030.000000  1030.000000   \n",
       "mean           6.203112        972.918592      773.578883    45.662136   \n",
       "std            5.973492         77.753818       80.175427    63.169912   \n",
       "min            0.000000        801.000000      594.000000     1.000000   \n",
       "25%            0.000000        932.000000      730.950000     7.000000   \n",
       "50%            6.350000        968.000000      779.510000    28.000000   \n",
       "75%           10.160000       1029.400000      824.000000    56.000000   \n",
       "max           32.200000       1145.000000      992.600000   365.000000   \n",
       "\n",
       "          Strength  \n",
       "count  1030.000000  \n",
       "mean     35.817836  \n",
       "std      16.705679  \n",
       "min       2.331808  \n",
       "25%      23.707115  \n",
       "50%      34.442774  \n",
       "75%      46.136287  \n",
       "max      82.599225  "
      ]
     },
     "execution_count": 7,
     "metadata": {},
     "output_type": "execute_result"
    }
   ],
   "source": [
    "df.describe()"
   ]
  },
  {
   "cell_type": "code",
   "execution_count": 8,
   "metadata": {},
   "outputs": [
    {
     "data": {
      "text/plain": [
       "Cement              0\n",
       "Blast_Furnance      0\n",
       "Fly_Ash             0\n",
       "Water               0\n",
       "Superplasticizer    0\n",
       "Coarse_Aggregate    0\n",
       "Fine_Aggregate      0\n",
       "Age                 0\n",
       "Strength            0\n",
       "dtype: int64"
      ]
     },
     "execution_count": 8,
     "metadata": {},
     "output_type": "execute_result"
    }
   ],
   "source": [
    "df.isnull().sum()"
   ]
  },
  {
   "cell_type": "code",
   "execution_count": 9,
   "metadata": {},
   "outputs": [
    {
     "name": "stdout",
     "output_type": "stream",
     "text": [
      "No. of Rows : 1030\n",
      "No. of Columns: 9\n"
     ]
    }
   ],
   "source": [
    "print(\"No. of Rows :\",df.shape[0])\n",
    "print(\"No. of Columns:\",df.shape[1])"
   ]
  },
  {
   "cell_type": "code",
   "execution_count": 10,
   "metadata": {},
   "outputs": [
    {
     "data": {
      "text/plain": [
       "<matplotlib.axes._subplots.AxesSubplot at 0x2167269bc48>"
      ]
     },
     "execution_count": 10,
     "metadata": {},
     "output_type": "execute_result"
    },
    {
     "data": {
      "image/png": "[encoded data removed]",
      "text/plain": [
       "<Figure size 432x288 with 1 Axes>"
      ]
     },
     "metadata": {
      "needs_background": "light"
     },
     "output_type": "display_data"
    }
   ],
   "source": [
    "sns.boxplot(df.Cement)"
   ]
  },
  {
   "cell_type": "code",
   "execution_count": 11,
   "metadata": {},
   "outputs": [
    {
     "data": {
      "text/plain": [
       "<matplotlib.axes._subplots.AxesSubplot at 0x216725bbc48>"
      ]
     },
     "execution_count": 11,
     "metadata": {},
     "output_type": "execute_result"
    },
    {
     "data": {
      "image/png": "[encoded data removed]",
      "text/plain": [
       "<Figure size 432x288 with 1 Axes>"
      ]
     },
     "metadata": {
      "needs_background": "light"
     },
     "output_type": "display_data"
    }
   ],
   "source": [
    "sns.boxplot(df.Age)"
   ]
  },
  {
   "cell_type": "code",
   "execution_count": 12,
   "metadata": {},
   "outputs": [
    {
     "name": "stdout",
     "output_type": "stream",
     "text": [
      "AxesSubplot(0.125,0.125;0.775x0.755)\n"
     ]
    },
    {
     "data": {
      "image/png": "[encoded data removed]",
      "text/plain": [
       "<Figure size 432x288 with 1 Axes>"
      ]
     },
     "metadata": {
      "needs_background": "light"
     },
     "output_type": "display_data"
    }
   ],
   "source": [
    "print(sns.boxplot(df.Fly_Ash))\n"
   ]
  },
  {
   "cell_type": "code",
   "execution_count": 13,
   "metadata": {},
   "outputs": [
    {
     "name": "stdout",
     "output_type": "stream",
     "text": [
      "AxesSubplot(0.125,0.125;0.775x0.755)\n"
     ]
    },
    {
     "data": {
      "image/png": "[encoded data removed]",
      "text/plain": [
       "<Figure size 432x288 with 1 Axes>"
      ]
     },
     "metadata": {
      "needs_background": "light"
     },
     "output_type": "display_data"
    }
   ],
   "source": [
    "print(sns.boxplot(df.Water))"
   ]
  },
  {
   "cell_type": "code",
   "execution_count": 14,
   "metadata": {},
   "outputs": [
    {
     "data": {
      "image/png": "[encoded data removed]",
      "text/plain": [
       "<Figure size 432x288 with 1 Axes>"
      ]
     },
     "metadata": {
      "needs_background": "light"
     },
     "output_type": "display_data"
    }
   ],
   "source": [
    "sns.barplot(x=\"Age\", y=\"Strength\", data=df)\n",
    "plt.show()"
   ]
  },
  {
   "cell_type": "code",
   "execution_count": 15,
   "metadata": {},
   "outputs": [
    {
     "data": {
      "image/png": "[encoded data removed]",
      "text/plain": [
       "<Figure size 1152x576 with 1 Axes>"
      ]
     },
     "metadata": {
      "needs_background": "light"
     },
     "output_type": "display_data"
    }
   ],
   "source": [
    "fig, ax= plt.subplots(figsize=(16,8))\n",
    "plt.scatter(df.Age,df.Strength)\n",
    "ax.set_xlabel(\"Age on concrete in days\")\n",
    "ax.set_ylabel(\"Concrete compressive strength\")\n",
    "plt.show()\n"
   ]
  },
  {
   "cell_type": "code",
   "execution_count": 16,
   "metadata": {},
   "outputs": [
    {
     "data": {
      "image/png": "[encoded data removed]",
      "text/plain": [
       "<Figure size 720x432 with 1 Axes>"
      ]
     },
     "metadata": {
      "needs_background": "light"
     },
     "output_type": "display_data"
    }
   ],
   "source": [
    "fig, ab= plt.subplots(figsize=(10,6))\n",
    "plt.scatter(x=df.Age,y=df.Blast_Furnance)\n",
    "ab.set_xlabel(\"Age of concrete in days \")\n",
    "ab.set_ylabel('Blast furnance')\n",
    "plt.show()\n"
   ]
  },
  {
   "cell_type": "markdown",
   "metadata": {},
   "source": [
    "from here we can visualize some outliers present in the dataset ... lets now see it in mathematical terms:"
   ]
  },
  {
   "cell_type": "code",
   "execution_count": 17,
   "metadata": {},
   "outputs": [
    {
     "name": "stdout",
     "output_type": "stream",
     "text": [
      "[[2.47791782 0.85688631 0.84713204 ... 1.21765845 0.27973311 2.64519215]\n",
      " [2.47791782 0.85688631 0.84713204 ... 1.21765845 0.27973311 1.5612771 ]\n",
      " [0.49144303 0.79553263 0.84713204 ... 2.24091255 3.55306569 0.26660766]\n",
      " ...\n",
      " [1.2700575  0.75958527 0.85066095 ... 0.08012724 0.27973311 0.7259282 ]\n",
      " [1.16857975 1.3080724  0.84713204 ... 0.19118775 0.27973311 0.18264932]\n",
      " [0.19401043 0.30850389 0.37696733 ... 0.15072887 0.27973311 0.20461667]]\n"
     ]
    }
   ],
   "source": [
    "#calling and using Z-SCORE\n",
    "from scipy import stats\n",
    "z=np.abs(stats.zscore(df))\n",
    "print(z)"
   ]
  },
  {
   "cell_type": "code",
   "execution_count": 18,
   "metadata": {},
   "outputs": [
    {
     "name": "stdout",
     "output_type": "stream",
     "text": [
      "(array([  2,   3,   4,   6,  12,  17,  24,  25,  26,  30,  31,  33,  34,\n",
      "        35,  41,  42,  56,  60,  61,  63,  65,  66,  76,  79,  99, 102,\n",
      "       122, 125, 145, 148, 168, 171, 553, 559, 571, 584, 604, 610, 616,\n",
      "       620, 622, 756, 769, 792, 798, 814, 820, 873, 936], dtype=int64), array([7, 7, 7, 7, 7, 7, 7, 7, 7, 7, 7, 7, 7, 7, 7, 7, 7, 7, 7, 7, 7, 7,\n",
      "       4, 4, 4, 4, 4, 4, 4, 4, 4, 4, 1, 1, 1, 1, 7, 7, 7, 7, 7, 7, 7, 7,\n",
      "       7, 7, 7, 3, 3], dtype=int64))\n"
     ]
    }
   ],
   "source": [
    "print(np.where(z>3))"
   ]
  },
  {
   "cell_type": "code",
   "execution_count": 19,
   "metadata": {},
   "outputs": [
    {
     "data": {
      "text/plain": [
       "(3.553065687407453, 5.057676786792999, 3.06081215469036)"
      ]
     },
     "execution_count": 19,
     "metadata": {},
     "output_type": "execute_result"
    }
   ],
   "source": [
    "z[2][7]  ,  z[3][7]  ,  z[936,3]   # above data shows the values greaterthen 3 "
   ]
  },
  {
   "cell_type": "code",
   "execution_count": 20,
   "metadata": {},
   "outputs": [],
   "source": [
    "# correcting or removing of outliers from the data\n",
    "\n",
    "df_o=df[(z<3).all(axis=1)]"
   ]
  },
  {
   "cell_type": "code",
   "execution_count": 21,
   "metadata": {},
   "outputs": [
    {
     "data": {
      "text/plain": [
       "((1030, 9), (981, 9))"
      ]
     },
     "execution_count": 21,
     "metadata": {},
     "output_type": "execute_result"
    }
   ],
   "source": [
    "df.shape, df_o.shape"
   ]
  },
  {
   "cell_type": "raw",
   "metadata": {},
   "source": [
    "#this means the outliers from the data has been removed i.e: shape of data is decreased and outliers are removed from data."
   ]
  },
  {
   "cell_type": "code",
   "execution_count": 22,
   "metadata": {},
   "outputs": [
    {
     "data": {
      "text/plain": [
       "Cement              0.508598\n",
       "Blast_Furnance      0.747848\n",
       "Fly_Ash             0.461819\n",
       "Water              -0.018138\n",
       "Superplasticizer    0.417771\n",
       "Coarse_Aggregate   -0.087918\n",
       "Fine_Aggregate     -0.226181\n",
       "Age                 1.940232\n",
       "Strength            0.463905\n",
       "dtype: float64"
      ]
     },
     "execution_count": 22,
     "metadata": {},
     "output_type": "execute_result"
    }
   ],
   "source": [
    "df_o.skew()"
   ]
  },
  {
   "cell_type": "code",
   "execution_count": 23,
   "metadata": {},
   "outputs": [
    {
     "name": "stderr",
     "output_type": "stream",
     "text": [
      "C:\\Users\\Dell\\Anaconda3\\lib\\site-packages\\ipykernel_launcher.py:3: SettingWithCopyWarning: \n",
      "A value is trying to be set on a copy of a slice from a DataFrame.\n",
      "Try using .loc[row_indexer,col_indexer] = value instead\n",
      "\n",
      "See the caveats in the documentation: http://pandas.pydata.org/pandas-docs/stable/user_guide/indexing.html#returning-a-view-versus-a-copy\n",
      "  This is separate from the ipykernel package so we can avoid doing imports until\n"
     ]
    }
   ],
   "source": [
    "for i in df_o.columns:\n",
    "    if df_o.skew().loc[i]>0.55:\n",
    "        df_o[i]=np.log1p(df_o[i])\n",
    "    if df_o.skew().loc[i]<-0.55:\n",
    "        df_o[i]=np.square(df_o[i])"
   ]
  },
  {
   "cell_type": "code",
   "execution_count": 24,
   "metadata": {},
   "outputs": [
    {
     "data": {
      "text/plain": [
       "Cement              0.508598\n",
       "Blast_Furnance     -0.021568\n",
       "Fly_Ash             0.461819\n",
       "Water              -0.018138\n",
       "Superplasticizer    0.417771\n",
       "Coarse_Aggregate   -0.087918\n",
       "Fine_Aggregate     -0.226181\n",
       "Age                -0.269706\n",
       "Strength            0.463905\n",
       "dtype: float64"
      ]
     },
     "execution_count": 24,
     "metadata": {},
     "output_type": "execute_result"
    }
   ],
   "source": [
    "df_o.skew()"
   ]
  },
  {
   "cell_type": "code",
   "execution_count": null,
   "metadata": {},
   "outputs": [],
   "source": []
  },
  {
   "cell_type": "code",
   "execution_count": 25,
   "metadata": {},
   "outputs": [
    {
     "data": {
      "text/html": [
       "<div>\n",
       "<style scoped>\n",
       "    .dataframe tbody tr th:only-of-type {\n",
       "        vertical-align: middle;\n",
       "    }\n",
       "\n",
       "    .dataframe tbody tr th {\n",
       "        vertical-align: top;\n",
       "    }\n",
       "\n",
       "    .dataframe thead th {\n",
       "        text-align: right;\n",
       "    }\n",
       "</style>\n",
       "<table border=\"1\" class=\"dataframe\">\n",
       "  <thead>\n",
       "    <tr style=\"text-align: right;\">\n",
       "      <th></th>\n",
       "      <th>Cement</th>\n",
       "      <th>Blast_Furnance</th>\n",
       "      <th>Fly_Ash</th>\n",
       "      <th>Water</th>\n",
       "      <th>Superplasticizer</th>\n",
       "      <th>Coarse_Aggregate</th>\n",
       "      <th>Fine_Aggregate</th>\n",
       "      <th>Age</th>\n",
       "      <th>Strength</th>\n",
       "    </tr>\n",
       "  </thead>\n",
       "  <tbody>\n",
       "    <tr>\n",
       "      <td>Cement</td>\n",
       "      <td>1.000000</td>\n",
       "      <td>-0.196623</td>\n",
       "      <td>-0.389627</td>\n",
       "      <td>-0.071275</td>\n",
       "      <td>0.030752</td>\n",
       "      <td>-0.092017</td>\n",
       "      <td>-0.237045</td>\n",
       "      <td>-0.036535</td>\n",
       "      <td>0.485174</td>\n",
       "    </tr>\n",
       "    <tr>\n",
       "      <td>Blast_Furnance</td>\n",
       "      <td>-0.196623</td>\n",
       "      <td>1.000000</td>\n",
       "      <td>-0.215896</td>\n",
       "      <td>0.011321</td>\n",
       "      <td>0.175096</td>\n",
       "      <td>-0.360466</td>\n",
       "      <td>-0.236215</td>\n",
       "      <td>-0.008125</td>\n",
       "      <td>0.220769</td>\n",
       "    </tr>\n",
       "    <tr>\n",
       "      <td>Fly_Ash</td>\n",
       "      <td>-0.389627</td>\n",
       "      <td>-0.215896</td>\n",
       "      <td>1.000000</td>\n",
       "      <td>-0.256198</td>\n",
       "      <td>0.430177</td>\n",
       "      <td>-0.027443</td>\n",
       "      <td>0.059906</td>\n",
       "      <td>0.047816</td>\n",
       "      <td>-0.081537</td>\n",
       "    </tr>\n",
       "    <tr>\n",
       "      <td>Water</td>\n",
       "      <td>-0.071275</td>\n",
       "      <td>0.011321</td>\n",
       "      <td>-0.256198</td>\n",
       "      <td>1.000000</td>\n",
       "      <td>-0.642098</td>\n",
       "      <td>-0.202212</td>\n",
       "      <td>-0.400538</td>\n",
       "      <td>0.065770</td>\n",
       "      <td>-0.327813</td>\n",
       "    </tr>\n",
       "    <tr>\n",
       "      <td>Superplasticizer</td>\n",
       "      <td>0.030752</td>\n",
       "      <td>0.175096</td>\n",
       "      <td>0.430177</td>\n",
       "      <td>-0.642098</td>\n",
       "      <td>1.000000</td>\n",
       "      <td>-0.240009</td>\n",
       "      <td>0.163262</td>\n",
       "      <td>0.038804</td>\n",
       "      <td>0.384036</td>\n",
       "    </tr>\n",
       "    <tr>\n",
       "      <td>Coarse_Aggregate</td>\n",
       "      <td>-0.092017</td>\n",
       "      <td>-0.360466</td>\n",
       "      <td>-0.027443</td>\n",
       "      <td>-0.202212</td>\n",
       "      <td>-0.240009</td>\n",
       "      <td>1.000000</td>\n",
       "      <td>-0.187842</td>\n",
       "      <td>-0.036175</td>\n",
       "      <td>-0.158345</td>\n",
       "    </tr>\n",
       "    <tr>\n",
       "      <td>Fine_Aggregate</td>\n",
       "      <td>-0.237045</td>\n",
       "      <td>-0.236215</td>\n",
       "      <td>0.059906</td>\n",
       "      <td>-0.400538</td>\n",
       "      <td>0.163262</td>\n",
       "      <td>-0.187842</td>\n",
       "      <td>1.000000</td>\n",
       "      <td>-0.046764</td>\n",
       "      <td>-0.162673</td>\n",
       "    </tr>\n",
       "    <tr>\n",
       "      <td>Age</td>\n",
       "      <td>-0.036535</td>\n",
       "      <td>-0.008125</td>\n",
       "      <td>0.047816</td>\n",
       "      <td>0.065770</td>\n",
       "      <td>0.038804</td>\n",
       "      <td>-0.036175</td>\n",
       "      <td>-0.046764</td>\n",
       "      <td>1.000000</td>\n",
       "      <td>0.564956</td>\n",
       "    </tr>\n",
       "    <tr>\n",
       "      <td>Strength</td>\n",
       "      <td>0.485174</td>\n",
       "      <td>0.220769</td>\n",
       "      <td>-0.081537</td>\n",
       "      <td>-0.327813</td>\n",
       "      <td>0.384036</td>\n",
       "      <td>-0.158345</td>\n",
       "      <td>-0.162673</td>\n",
       "      <td>0.564956</td>\n",
       "      <td>1.000000</td>\n",
       "    </tr>\n",
       "  </tbody>\n",
       "</table>\n",
       "</div>"
      ],
      "text/plain": [
       "                    Cement  Blast_Furnance   Fly_Ash     Water  \\\n",
       "Cement            1.000000       -0.196623 -0.389627 -0.071275   \n",
       "Blast_Furnance   -0.196623        1.000000 -0.215896  0.011321   \n",
       "Fly_Ash          -0.389627       -0.215896  1.000000 -0.256198   \n",
       "Water            -0.071275        0.011321 -0.256198  1.000000   \n",
       "Superplasticizer  0.030752        0.175096  0.430177 -0.642098   \n",
       "Coarse_Aggregate -0.092017       -0.360466 -0.027443 -0.202212   \n",
       "Fine_Aggregate   -0.237045       -0.236215  0.059906 -0.400538   \n",
       "Age              -0.036535       -0.008125  0.047816  0.065770   \n",
       "Strength          0.485174        0.220769 -0.081537 -0.327813   \n",
       "\n",
       "                  Superplasticizer  Coarse_Aggregate  Fine_Aggregate  \\\n",
       "Cement                    0.030752         -0.092017       -0.237045   \n",
       "Blast_Furnance            0.175096         -0.360466       -0.236215   \n",
       "Fly_Ash                   0.430177         -0.027443        0.059906   \n",
       "Water                    -0.642098         -0.202212       -0.400538   \n",
       "Superplasticizer          1.000000         -0.240009        0.163262   \n",
       "Coarse_Aggregate         -0.240009          1.000000       -0.187842   \n",
       "Fine_Aggregate            0.163262         -0.187842        1.000000   \n",
       "Age                       0.038804         -0.036175       -0.046764   \n",
       "Strength                  0.384036         -0.158345       -0.162673   \n",
       "\n",
       "                       Age  Strength  \n",
       "Cement           -0.036535  0.485174  \n",
       "Blast_Furnance   -0.008125  0.220769  \n",
       "Fly_Ash           0.047816 -0.081537  \n",
       "Water             0.065770 -0.327813  \n",
       "Superplasticizer  0.038804  0.384036  \n",
       "Coarse_Aggregate -0.036175 -0.158345  \n",
       "Fine_Aggregate   -0.046764 -0.162673  \n",
       "Age               1.000000  0.564956  \n",
       "Strength          0.564956  1.000000  "
      ]
     },
     "execution_count": 25,
     "metadata": {},
     "output_type": "execute_result"
    }
   ],
   "source": [
    "df_o.corr()"
   ]
  },
  {
   "cell_type": "code",
   "execution_count": 26,
   "metadata": {},
   "outputs": [
    {
     "data": {
      "text/plain": [
       "<matplotlib.axes._subplots.AxesSubplot at 0x21672922f88>"
      ]
     },
     "execution_count": 26,
     "metadata": {},
     "output_type": "execute_result"
    },
    {
     "data": {
      "image/png": "[encoded data removed]",
      "text/plain": [
       "<Figure size 432x288 with 2 Axes>"
      ]
     },
     "metadata": {
      "needs_background": "light"
     },
     "output_type": "display_data"
    }
   ],
   "source": [
    "sns.heatmap(df_o.corr(),annot=True,cmap='Blues')"
   ]
  },
  {
   "cell_type": "markdown",
   "metadata": {},
   "source": [
    "CC_Strength vs (Cement, Age, Water)"
   ]
  },
  {
   "cell_type": "code",
   "execution_count": 27,
   "metadata": {},
   "outputs": [
    {
     "data": {
      "text/plain": [
       "<matplotlib.axes._subplots.AxesSubplot at 0x216727d6cc8>"
      ]
     },
     "execution_count": 27,
     "metadata": {},
     "output_type": "execute_result"
    },
    {
     "data": {
      "image/png": "[encoded data removed]",
      "text/plain": [
       "<Figure size 432x288 with 1 Axes>"
      ]
     },
     "metadata": {
      "needs_background": "light"
     },
     "output_type": "display_data"
    }
   ],
   "source": [
    "sns.scatterplot(y=\"Strength\", x=\"Cement\", hue=\"Water\",size=\"Age\", data=df_o, sizes=(50, 300))"
   ]
  },
  {
   "cell_type": "markdown",
   "metadata": {},
   "source": [
    "CC Strength vs (Fine aggregate, Super Plasticizer, Fly Ash)"
   ]
  },
  {
   "cell_type": "code",
   "execution_count": 28,
   "metadata": {},
   "outputs": [
    {
     "data": {
      "text/plain": [
       "<matplotlib.axes._subplots.AxesSubplot at 0x216725e3488>"
      ]
     },
     "execution_count": 28,
     "metadata": {},
     "output_type": "execute_result"
    },
    {
     "data": {
      "image/png": "[encoded data removed]",
      "text/plain": [
       "<Figure size 432x288 with 1 Axes>"
      ]
     },
     "metadata": {
      "needs_background": "light"
     },
     "output_type": "display_data"
    }
   ],
   "source": [
    "sns.scatterplot(y=\"Strength\", x=\"Fine_Aggregate\", hue=\"Fly_Ash\",\n",
    "   size=\"Superplasticizer\", data=df_o, sizes=(50, 300))"
   ]
  },
  {
   "cell_type": "code",
   "execution_count": 29,
   "metadata": {},
   "outputs": [
    {
     "data": {
      "text/plain": [
       "Index(['Cement', 'Blast_Furnance', 'Fly_Ash', 'Water', 'Superplasticizer',\n",
       "       'Coarse_Aggregate', 'Fine_Aggregate', 'Age', 'Strength'],\n",
       "      dtype='object')"
      ]
     },
     "execution_count": 29,
     "metadata": {},
     "output_type": "execute_result"
    }
   ],
   "source": [
    "df_o.columns"
   ]
  },
  {
   "cell_type": "code",
   "execution_count": null,
   "metadata": {},
   "outputs": [],
   "source": []
  },
  {
   "cell_type": "code",
   "execution_count": null,
   "metadata": {},
   "outputs": [],
   "source": []
  },
  {
   "cell_type": "code",
   "execution_count": null,
   "metadata": {},
   "outputs": [],
   "source": []
  },
  {
   "cell_type": "code",
   "execution_count": 30,
   "metadata": {},
   "outputs": [
    {
     "data": {
      "text/plain": [
       "(981, 7)"
      ]
     },
     "execution_count": 30,
     "metadata": {},
     "output_type": "execute_result"
    }
   ],
   "source": [
    "df_x=df_o.iloc[:,0:7]\n",
    "df_x.shape"
   ]
  },
  {
   "cell_type": "code",
   "execution_count": 31,
   "metadata": {},
   "outputs": [
    {
     "data": {
      "text/plain": [
       "(981,)"
      ]
     },
     "execution_count": 31,
     "metadata": {},
     "output_type": "execute_result"
    }
   ],
   "source": [
    "df_y=df_o.iloc[:,8]\n",
    "df_y.shape"
   ]
  },
  {
   "cell_type": "code",
   "execution_count": 32,
   "metadata": {},
   "outputs": [
    {
     "data": {
      "text/html": [
       "<div>\n",
       "<style scoped>\n",
       "    .dataframe tbody tr th:only-of-type {\n",
       "        vertical-align: middle;\n",
       "    }\n",
       "\n",
       "    .dataframe tbody tr th {\n",
       "        vertical-align: top;\n",
       "    }\n",
       "\n",
       "    .dataframe thead th {\n",
       "        text-align: right;\n",
       "    }\n",
       "</style>\n",
       "<table border=\"1\" class=\"dataframe\">\n",
       "  <thead>\n",
       "    <tr style=\"text-align: right;\">\n",
       "      <th></th>\n",
       "      <th>Cement</th>\n",
       "      <th>Blast_Furnance</th>\n",
       "      <th>Fly_Ash</th>\n",
       "      <th>Water</th>\n",
       "      <th>Superplasticizer</th>\n",
       "      <th>Coarse_Aggregate</th>\n",
       "      <th>Fine_Aggregate</th>\n",
       "    </tr>\n",
       "  </thead>\n",
       "  <tbody>\n",
       "    <tr>\n",
       "      <td>0</td>\n",
       "      <td>540.0</td>\n",
       "      <td>0.000000</td>\n",
       "      <td>0.0</td>\n",
       "      <td>162.0</td>\n",
       "      <td>2.5</td>\n",
       "      <td>1040.0</td>\n",
       "      <td>676.0</td>\n",
       "    </tr>\n",
       "    <tr>\n",
       "      <td>1</td>\n",
       "      <td>540.0</td>\n",
       "      <td>0.000000</td>\n",
       "      <td>0.0</td>\n",
       "      <td>162.0</td>\n",
       "      <td>2.5</td>\n",
       "      <td>1055.0</td>\n",
       "      <td>676.0</td>\n",
       "    </tr>\n",
       "    <tr>\n",
       "      <td>5</td>\n",
       "      <td>266.0</td>\n",
       "      <td>4.744932</td>\n",
       "      <td>0.0</td>\n",
       "      <td>228.0</td>\n",
       "      <td>0.0</td>\n",
       "      <td>932.0</td>\n",
       "      <td>670.0</td>\n",
       "    </tr>\n",
       "    <tr>\n",
       "      <td>7</td>\n",
       "      <td>380.0</td>\n",
       "      <td>4.564348</td>\n",
       "      <td>0.0</td>\n",
       "      <td>228.0</td>\n",
       "      <td>0.0</td>\n",
       "      <td>932.0</td>\n",
       "      <td>594.0</td>\n",
       "    </tr>\n",
       "    <tr>\n",
       "      <td>8</td>\n",
       "      <td>266.0</td>\n",
       "      <td>4.744932</td>\n",
       "      <td>0.0</td>\n",
       "      <td>228.0</td>\n",
       "      <td>0.0</td>\n",
       "      <td>932.0</td>\n",
       "      <td>670.0</td>\n",
       "    </tr>\n",
       "    <tr>\n",
       "      <td>...</td>\n",
       "      <td>...</td>\n",
       "      <td>...</td>\n",
       "      <td>...</td>\n",
       "      <td>...</td>\n",
       "      <td>...</td>\n",
       "      <td>...</td>\n",
       "      <td>...</td>\n",
       "    </tr>\n",
       "    <tr>\n",
       "      <td>1025</td>\n",
       "      <td>276.4</td>\n",
       "      <td>4.762174</td>\n",
       "      <td>90.3</td>\n",
       "      <td>179.6</td>\n",
       "      <td>8.9</td>\n",
       "      <td>870.1</td>\n",
       "      <td>768.3</td>\n",
       "    </tr>\n",
       "    <tr>\n",
       "      <td>1026</td>\n",
       "      <td>322.2</td>\n",
       "      <td>0.000000</td>\n",
       "      <td>115.6</td>\n",
       "      <td>196.0</td>\n",
       "      <td>10.4</td>\n",
       "      <td>817.9</td>\n",
       "      <td>813.4</td>\n",
       "    </tr>\n",
       "    <tr>\n",
       "      <td>1027</td>\n",
       "      <td>148.5</td>\n",
       "      <td>4.944495</td>\n",
       "      <td>108.6</td>\n",
       "      <td>192.7</td>\n",
       "      <td>6.1</td>\n",
       "      <td>892.4</td>\n",
       "      <td>780.0</td>\n",
       "    </tr>\n",
       "    <tr>\n",
       "      <td>1028</td>\n",
       "      <td>159.1</td>\n",
       "      <td>5.234845</td>\n",
       "      <td>0.0</td>\n",
       "      <td>175.6</td>\n",
       "      <td>11.3</td>\n",
       "      <td>989.6</td>\n",
       "      <td>788.9</td>\n",
       "    </tr>\n",
       "    <tr>\n",
       "      <td>1029</td>\n",
       "      <td>260.9</td>\n",
       "      <td>4.620059</td>\n",
       "      <td>78.3</td>\n",
       "      <td>200.6</td>\n",
       "      <td>8.6</td>\n",
       "      <td>864.5</td>\n",
       "      <td>761.5</td>\n",
       "    </tr>\n",
       "  </tbody>\n",
       "</table>\n",
       "<p>981 rows × 7 columns</p>\n",
       "</div>"
      ],
      "text/plain": [
       "      Cement  Blast_Furnance  Fly_Ash  Water  Superplasticizer  \\\n",
       "0      540.0        0.000000      0.0  162.0               2.5   \n",
       "1      540.0        0.000000      0.0  162.0               2.5   \n",
       "5      266.0        4.744932      0.0  228.0               0.0   \n",
       "7      380.0        4.564348      0.0  228.0               0.0   \n",
       "8      266.0        4.744932      0.0  228.0               0.0   \n",
       "...      ...             ...      ...    ...               ...   \n",
       "1025   276.4        4.762174     90.3  179.6               8.9   \n",
       "1026   322.2        0.000000    115.6  196.0              10.4   \n",
       "1027   148.5        4.944495    108.6  192.7               6.1   \n",
       "1028   159.1        5.234845      0.0  175.6              11.3   \n",
       "1029   260.9        4.620059     78.3  200.6               8.6   \n",
       "\n",
       "      Coarse_Aggregate  Fine_Aggregate  \n",
       "0               1040.0           676.0  \n",
       "1               1055.0           676.0  \n",
       "5                932.0           670.0  \n",
       "7                932.0           594.0  \n",
       "8                932.0           670.0  \n",
       "...                ...             ...  \n",
       "1025             870.1           768.3  \n",
       "1026             817.9           813.4  \n",
       "1027             892.4           780.0  \n",
       "1028             989.6           788.9  \n",
       "1029             864.5           761.5  \n",
       "\n",
       "[981 rows x 7 columns]"
      ]
     },
     "execution_count": 32,
     "metadata": {},
     "output_type": "execute_result"
    }
   ],
   "source": [
    "df_x"
   ]
  },
  {
   "cell_type": "code",
   "execution_count": 33,
   "metadata": {},
   "outputs": [
    {
     "data": {
      "text/plain": [
       "0       79.986111\n",
       "1       61.887366\n",
       "5       47.029847\n",
       "7       36.447770\n",
       "8       45.854291\n",
       "          ...    \n",
       "1025    44.284354\n",
       "1026    31.178794\n",
       "1027    23.696601\n",
       "1028    32.768036\n",
       "1029    32.401235\n",
       "Name: Strength, Length: 981, dtype: float64"
      ]
     },
     "execution_count": 33,
     "metadata": {},
     "output_type": "execute_result"
    }
   ],
   "source": [
    "df_y"
   ]
  },
  {
   "cell_type": "code",
   "execution_count": 34,
   "metadata": {},
   "outputs": [],
   "source": [
    "from sklearn.preprocessing import StandardScaler\n",
    "sc = StandardScaler()"
   ]
  },
  {
   "cell_type": "code",
   "execution_count": 35,
   "metadata": {},
   "outputs": [
    {
     "data": {
      "text/plain": [
       "array([[ 2.56001813, -1.0537685 , -0.88110763, ..., -0.67347934,\n",
       "         0.83976733, -1.28849519],\n",
       "       [ 2.56001813, -1.0537685 , -0.88110763, ..., -0.67347934,\n",
       "         1.03275488, -1.28849519],\n",
       "       [-0.1120214 ,  0.91615758, -0.88110763, ..., -1.12941161,\n",
       "        -0.54974304, -1.36580313],\n",
       "       ...,\n",
       "       [-1.25787776,  0.99900914,  0.80507504, ..., -0.01693688,\n",
       "        -1.05923018,  0.05150907],\n",
       "       [-1.15450689,  1.11955185, -0.88110763, ...,  0.93140223,\n",
       "         0.19132916,  0.16618252],\n",
       "       [-0.16175644,  0.86431464,  0.33462076, ...,  0.43899538,\n",
       "        -1.41818702, -0.18685707]])"
      ]
     },
     "execution_count": 35,
     "metadata": {},
     "output_type": "execute_result"
    }
   ],
   "source": [
    "df_x=sc.fit_transform(df_x)\n",
    "df_x"
   ]
  },
  {
   "cell_type": "code",
   "execution_count": null,
   "metadata": {},
   "outputs": [],
   "source": []
  },
  {
   "cell_type": "code",
   "execution_count": 36,
   "metadata": {},
   "outputs": [
    {
     "data": {
      "text/plain": [
       "0       79.986111\n",
       "1       61.887366\n",
       "5       47.029847\n",
       "7       36.447770\n",
       "8       45.854291\n",
       "          ...    \n",
       "1025    44.284354\n",
       "1026    31.178794\n",
       "1027    23.696601\n",
       "1028    32.768036\n",
       "1029    32.401235\n",
       "Name: Strength, Length: 981, dtype: float64"
      ]
     },
     "execution_count": 36,
     "metadata": {},
     "output_type": "execute_result"
    }
   ],
   "source": [
    "df_y"
   ]
  },
  {
   "cell_type": "code",
   "execution_count": 37,
   "metadata": {},
   "outputs": [
    {
     "name": "stdout",
     "output_type": "stream",
     "text": [
      "(981, 7)\n",
      "\n",
      "\n",
      "(981,)\n"
     ]
    }
   ],
   "source": [
    "print(df_x.shape)\n",
    "print()\n",
    "print()\n",
    "print(df_y.shape)"
   ]
  },
  {
   "cell_type": "code",
   "execution_count": 38,
   "metadata": {},
   "outputs": [],
   "source": [
    "#model creation , training and testing:\n",
    "from sklearn.model_selection import train_test_split\n",
    "from sklearn.metrics import mean_absolute_error\n",
    "from sklearn.metrics import mean_squared_error\n",
    "from sklearn.metrics import r2_score\n",
    "from sklearn import linear_model\n",
    "import warnings \n",
    "warnings.filterwarnings(\"ignore\")"
   ]
  },
  {
   "cell_type": "code",
   "execution_count": 39,
   "metadata": {},
   "outputs": [
    {
     "name": "stdout",
     "output_type": "stream",
     "text": [
      "r2_score corresponding to random state  42 is: 0.38874493789507203\n",
      "r2_score corresponding to random state  43 is: 0.5125297482034792\n",
      "r2_score corresponding to random state  44 is: 0.4465289567351233\n",
      "r2_score corresponding to random state  45 is: 0.4756204129120917\n",
      "r2_score corresponding to random state  46 is: 0.400330123745107\n",
      "r2_score corresponding to random state  47 is: 0.46647607201377794\n",
      "r2_score corresponding to random state  48 is: 0.38731340496537936\n",
      "r2_score corresponding to random state  49 is: 0.43504795832117016\n",
      "r2_score corresponding to random state  50 is: 0.4429253331047829\n",
      "r2_score corresponding to random state  51 is: 0.38110068515068973\n",
      "r2_score corresponding to random state  52 is: 0.45790799048754927\n",
      "r2_score corresponding to random state  53 is: 0.4870420436033961\n",
      "r2_score corresponding to random state  54 is: 0.5169159141788375\n",
      "r2_score corresponding to random state  55 is: 0.3906663951183501\n",
      "r2_score corresponding to random state  56 is: 0.5106942891843838\n",
      "r2_score corresponding to random state  57 is: 0.49921909533074504\n",
      "r2_score corresponding to random state  58 is: 0.2762611274064448\n",
      "r2_score corresponding to random state  59 is: 0.4000680616336665\n",
      "r2_score corresponding to random state  60 is: 0.4560593759319972\n",
      "r2_score corresponding to random state  61 is: 0.44247051530081416\n",
      "r2_score corresponding to random state  62 is: 0.40326229244820855\n",
      "r2_score corresponding to random state  63 is: 0.4453538230960754\n",
      "r2_score corresponding to random state  64 is: 0.4454394578178946\n",
      "r2_score corresponding to random state  65 is: 0.4017997543128857\n",
      "r2_score corresponding to random state  66 is: 0.4082495456953291\n",
      "r2_score corresponding to random state  67 is: 0.34791664552125356\n",
      "r2_score corresponding to random state  68 is: 0.4886955143192886\n",
      "r2_score corresponding to random state  69 is: 0.4732043108217494\n",
      "r2_score corresponding to random state  70 is: 0.4170432316469527\n",
      "r2_score corresponding to random state  71 is: 0.457405527899456\n",
      "r2_score corresponding to random state  72 is: 0.4860690033886276\n",
      "r2_score corresponding to random state  73 is: 0.4815983664323067\n",
      "r2_score corresponding to random state  74 is: 0.4319142681671566\n",
      "r2_score corresponding to random state  75 is: 0.48994654786175007\n",
      "r2_score corresponding to random state  76 is: 0.5020843363785716\n",
      "r2_score corresponding to random state  77 is: 0.414218686522441\n",
      "r2_score corresponding to random state  78 is: 0.46907699832546845\n",
      "r2_score corresponding to random state  79 is: 0.49382329392130886\n",
      "r2_score corresponding to random state  80 is: 0.39526375621578036\n",
      "r2_score corresponding to random state  81 is: 0.5156766357361335\n",
      "r2_score corresponding to random state  82 is: 0.4058965240261335\n",
      "r2_score corresponding to random state  83 is: 0.4521760993634485\n",
      "r2_score corresponding to random state  84 is: 0.45088464916891036\n",
      "r2_score corresponding to random state  85 is: 0.457665432051352\n",
      "r2_score corresponding to random state  86 is: 0.4224534373963623\n",
      "r2_score corresponding to random state  87 is: 0.4028514941768835\n",
      "r2_score corresponding to random state  88 is: 0.5170010572467029\n",
      "r2_score corresponding to random state  89 is: 0.5101350190566525\n",
      "r2_score corresponding to random state  90 is: 0.4599186077365274\n",
      "r2_score corresponding to random state  91 is: 0.44978512642698565\n",
      "r2_score corresponding to random state  92 is: 0.47272430809986\n",
      "r2_score corresponding to random state  93 is: 0.4361209409978072\n",
      "r2_score corresponding to random state  94 is: 0.5024536448903945\n",
      "r2_score corresponding to random state  95 is: 0.4224550474345383\n",
      "r2_score corresponding to random state  96 is: 0.5090197891311037\n",
      "r2_score corresponding to random state  97 is: 0.4802664142415638\n",
      "r2_score corresponding to random state  98 is: 0.5181948983439071\n",
      "r2_score corresponding to random state  99 is: 0.5064234945651329\n",
      "r2_score corresponding to random state  100 is: 0.49313600399964186\n",
      "\n",
      "\n",
      "max r score corresponding to  98 is: 0.5181948983439071\n"
     ]
    }
   ],
   "source": [
    "max_r_score=0\n",
    "for r_state in range (42,101):\n",
    "    x_train,x_test,y_train,y_test = train_test_split(df_x,df_y,test_size=.22,random_state=r_state)\n",
    "    regr = linear_model.LinearRegression()\n",
    "    regr.fit(x_train,y_train)\n",
    "    y_pred=regr.predict(x_test)\n",
    "    r2_scr= r2_score(y_test,y_pred)\n",
    "    print(\"r2_score corresponding to random state \", r_state,\"is:\",r2_scr)\n",
    "    \n",
    "    if r2_scr>max_r_score:\n",
    "        max_r_score=r2_scr\n",
    "        final_r_state = r_state\n",
    "        \n",
    "        \n",
    "        \n",
    "print()\n",
    "print()\n",
    "print(\"max r score corresponding to \",final_r_state,\"is:\",max_r_score)\n",
    "        "
   ]
  },
  {
   "cell_type": "code",
   "execution_count": 40,
   "metadata": {},
   "outputs": [
    {
     "name": "stdout",
     "output_type": "stream",
     "text": [
      "(765, 7)\n",
      "(216, 7)\n",
      "(765,)\n",
      "(216,)\n"
     ]
    }
   ],
   "source": [
    "print(x_train.shape)\n",
    "print(x_test.shape)\n",
    "print(y_train.shape)\n",
    "print(y_test.shape)"
   ]
  },
  {
   "cell_type": "code",
   "execution_count": null,
   "metadata": {},
   "outputs": [],
   "source": []
  },
  {
   "cell_type": "code",
   "execution_count": 41,
   "metadata": {},
   "outputs": [
    {
     "data": {
      "text/plain": [
       "0.26818904049995085"
      ]
     },
     "execution_count": 41,
     "metadata": {},
     "output_type": "execute_result"
    }
   ],
   "source": [
    "#lets do its cross_Validation:\n",
    "\n",
    "from sklearn.model_selection import cross_val_score\n",
    "cross_val_score(linear_model.LinearRegression(),df_x,df_y, cv=5,scoring=\"r2\").mean()"
   ]
  },
  {
   "cell_type": "markdown",
   "metadata": {},
   "source": [
    "score is less lets try to improve this score"
   ]
  },
  {
   "cell_type": "code",
   "execution_count": null,
   "metadata": {},
   "outputs": [],
   "source": []
  },
  {
   "cell_type": "code",
   "execution_count": null,
   "metadata": {},
   "outputs": [],
   "source": []
  },
  {
   "cell_type": "code",
   "execution_count": null,
   "metadata": {},
   "outputs": [],
   "source": []
  },
  {
   "cell_type": "code",
   "execution_count": null,
   "metadata": {},
   "outputs": [],
   "source": []
  },
  {
   "cell_type": "code",
   "execution_count": null,
   "metadata": {},
   "outputs": [],
   "source": []
  },
  {
   "cell_type": "code",
   "execution_count": null,
   "metadata": {},
   "outputs": [],
   "source": []
  },
  {
   "cell_type": "code",
   "execution_count": null,
   "metadata": {},
   "outputs": [],
   "source": []
  }
 ],
 "metadata": {
  "kernelspec": {
   "display_name": "Python 3",
   "language": "python",
   "name": "python3"
  },
  "language_info": {
   "codemirror_mode": {
    "name": "ipython",
    "version": 3
   },
   "file_extension": ".py",
   "mimetype": "text/x-python",
   "name": "python",
   "nbconvert_exporter": "python",
   "pygments_lexer": "ipython3",
   "version": "3.7.4"
  }
 },
 "nbformat": 4,
 "nbformat_minor": 2
}
